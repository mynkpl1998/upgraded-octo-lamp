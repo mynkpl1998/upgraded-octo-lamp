{
 "cells": [
  {
   "cell_type": "markdown",
   "metadata": {},
   "source": [
    "# Import Libraries"
   ]
  },
  {
   "cell_type": "code",
   "execution_count": 1,
   "metadata": {},
   "outputs": [],
   "source": [
    "import pickle\n",
    "import numpy as np\n",
    "import os\n",
    "import sys\n",
    "sys.path.insert(0, os.getcwd()[:-6])\n",
    "from v2i.src.core.common import loadPKL, savePKL, readYaml\n",
    "import matplotlib.pyplot as plt"
   ]
  },
  {
   "cell_type": "markdown",
   "metadata": {},
   "source": [
    "# Experiment Related Details"
   ]
  },
  {
   "cell_type": "markdown",
   "metadata": {},
   "source": [
    "1. Experiment ID - /home/mayank/ray_results/WithFullComm/PPO_v2i-v0_0_2019-08-24_14-32-0332s3e3o7\n",
    "2. Data File - /home/mayank/ray_results/WithFullComm/PPO_v2i-v0_0_2019-08-24_14-32-0332s3e3o7/tfEnabledDataCheck2000/bumdist_tf_enabled.pkl\n",
    "3. AlgoConfig - /home/mayank/Documents/upgraded-octo-lamp/experiments/WithFullComm/configFiles/ppo-algo-config.yml\n"
   ]
  },
  {
   "cell_type": "code",
   "execution_count": 2,
   "metadata": {},
   "outputs": [],
   "source": [
    "datFile = \"/home/mayank/ray_results/WithFullComm/PPO_v2i-v0_0_2019-08-24_14-32-0332s3e3o7/tfEnabledDataCheck2000/bumdist_tf_enabled.pkl\""
   ]
  },
  {
   "cell_type": "markdown",
   "metadata": {},
   "source": [
    "# Load Data file"
   ]
  },
  {
   "cell_type": "code",
   "execution_count": 3,
   "metadata": {},
   "outputs": [],
   "source": [
    "simData = loadPKL(datFile)"
   ]
  },
  {
   "cell_type": "markdown",
   "metadata": {},
   "source": [
    "# Start Analysis"
   ]
  },
  {
   "cell_type": "markdown",
   "metadata": {},
   "source": [
    "### Set the density to analyze"
   ]
  },
  {
   "cell_type": "code",
   "execution_count": 4,
   "metadata": {},
   "outputs": [],
   "source": [
    "density = 0.1"
   ]
  },
  {
   "cell_type": "code",
   "execution_count": 5,
   "metadata": {},
   "outputs": [
    {
     "data": {
      "text/plain": [
       "dict_keys(['maxSpeed', 'maxViewSpeed', 'plan-acts', 'query-acts', 'max-episode-length', 'data'])"
      ]
     },
     "execution_count": 5,
     "metadata": {},
     "output_type": "execute_result"
    }
   ],
   "source": [
    "simData.keys()"
   ]
  },
  {
   "cell_type": "code",
   "execution_count": 6,
   "metadata": {},
   "outputs": [
    {
     "data": {
      "text/plain": [
       "1200"
      ]
     },
     "execution_count": 6,
     "metadata": {},
     "output_type": "execute_result"
    }
   ],
   "source": [
    "simData['max-episode-length']"
   ]
  },
  {
   "cell_type": "code",
   "execution_count": 7,
   "metadata": {},
   "outputs": [
    {
     "data": {
      "text/plain": [
       "dict_keys([0.1, 0.3, 0.5, 0.7, 0.9])"
      ]
     },
     "execution_count": 7,
     "metadata": {},
     "output_type": "execute_result"
    }
   ],
   "source": [
    "simData['data'].keys()"
   ]
  },
  {
   "cell_type": "code",
   "execution_count": 8,
   "metadata": {},
   "outputs": [
    {
     "data": {
      "text/plain": [
       "dict_keys([0, 1, 2, 3, 4, 5, 6, 7, 8, 9, 10, 11, 12, 13, 14, 15, 16, 17, 18, 19, 20, 21, 22, 23, 24, 25, 26, 27, 28, 29, 30, 31, 32, 33, 34, 35, 36, 37, 38, 39, 40, 41, 42, 43, 44, 45, 46, 47, 48, 49, 50, 51, 52, 53, 54, 55, 56, 57, 58, 59, 60, 61, 62, 63, 64, 65, 66, 67, 68, 69, 70, 71, 72, 73, 74, 75, 76, 77, 78, 79])"
      ]
     },
     "execution_count": 8,
     "metadata": {},
     "output_type": "execute_result"
    }
   ],
   "source": [
    "simData['data'][density].keys()"
   ]
  },
  {
   "cell_type": "code",
   "execution_count": 9,
   "metadata": {},
   "outputs": [
    {
     "data": {
      "text/plain": [
       "dict_keys(['speed', 'rewards', 'actions', 'bum2bumdist', 'EgoMaxSpeed'])"
      ]
     },
     "execution_count": 9,
     "metadata": {},
     "output_type": "execute_result"
    }
   ],
   "source": [
    "simData['data'][density][0].keys()"
   ]
  },
  {
   "cell_type": "code",
   "execution_count": 10,
   "metadata": {
    "scrolled": true
   },
   "outputs": [],
   "source": [
    "egoSpeedofprematureEpisodes = []\n",
    "bum2bumdistofprematureEpisodes = []\n",
    "prematureEpisodeNumbers = []\n",
    "actionsOfPrematureEpisodes = []\n",
    "\n",
    "collisionCount = 0\n",
    "\n",
    "for episode in simData['data'][density]:\n",
    "    if len(simData['data'][density][episode]['speed']) < simData['max-episode-length']:\n",
    "        egoSpeedofprematureEpisodes.append(simData['data'][density][episode]['speed'])\n",
    "        bum2bumdistofprematureEpisodes.append(simData['data'][density][episode]['bum2bumdist'][-1])\n",
    "        prematureEpisodeNumbers.append(episode)\n",
    "        actionsOfPrematureEpisodes.append(simData['data'][density][episode]['actions'][-1])\n",
    "        collisionCount += 1"
   ]
  },
  {
   "cell_type": "markdown",
   "metadata": {},
   "source": [
    "# Metrics"
   ]
  },
  {
   "cell_type": "code",
   "execution_count": 11,
   "metadata": {},
   "outputs": [
    {
     "name": "stdout",
     "output_type": "stream",
     "text": [
      "Number of Episodes tested :  80\n",
      "Number of Episodes ended with collision  23.75 %\n"
     ]
    }
   ],
   "source": [
    "print(\"Number of Episodes tested : \", len(simData['data'][density]))\n",
    "print(\"Number of Episodes ended with collision \", collisionCount/len(simData['data'][density]) * 100, \"%\")"
   ]
  },
  {
   "cell_type": "markdown",
   "metadata": {},
   "source": [
    "### Plot for ego vehicle speed for last $t$ time steps before collision"
   ]
  },
  {
   "cell_type": "code",
   "execution_count": 22,
   "metadata": {},
   "outputs": [
    {
     "data": {
      "image/png": "[encoded data removed]",
      "text/plain": [
       "<Figure size 432x288 with 1 Axes>"
      ]
     },
     "metadata": {
      "needs_background": "light"
     },
     "output_type": "display_data"
    }
   ],
   "source": [
    "numLastSteps = 30\n",
    "numEpisodes = 5\n",
    "\n",
    "for idx, plot in enumerate(egoSpeedofprematureEpisodes):\n",
    "    newList = plot[-numLastSteps:]\n",
    "    newList = [x * 2 for x in newList]\n",
    "    plt.plot(np.arange(numLastSteps), newList)\n",
    "    \n",
    "    if idx == numEpisodes:\n",
    "        break\n",
    "plt.xlabel(\"Last t steps before collision\")\n",
    "plt.ylabel(\"Ego Vehicle Speed\")\n",
    "plt.show()"
   ]
  },
  {
   "cell_type": "code",
   "execution_count": 15,
   "metadata": {},
   "outputs": [
    {
     "data": {
      "text/plain": [
       "[('dec', 'reg_0'),\n",
       " ('dec', 'reg_1'),\n",
       " ('dec', 'reg_1'),\n",
       " ('dec', 'reg_1'),\n",
       " ('dec', 'null'),\n",
       " ('dec', 'reg_0'),\n",
       " ('dec', 'reg_1'),\n",
       " ('dec', 'null'),\n",
       " ('dec', 'null'),\n",
       " ('dec', 'null'),\n",
       " ('dec', 'null'),\n",
       " ('dec', 'reg_0'),\n",
       " ('dec', 'null'),\n",
       " ('dec', 'reg_0'),\n",
       " ('dec', 'null'),\n",
       " ('dec', 'reg_0'),\n",
       " ('dec', 'reg_0'),\n",
       " ('dec', 'null'),\n",
       " ('dec', 'null')]"
      ]
     },
     "execution_count": 15,
     "metadata": {},
     "output_type": "execute_result"
    }
   ],
   "source": [
    "actionsOfPrematureEpisodes"
   ]
  }
 ],
 "metadata": {
  "kernelspec": {
   "display_name": "Python 3",
   "language": "python",
   "name": "python3"
  },
  "language_info": {
   "codemirror_mode": {
    "name": "ipython",
    "version": 3
   },
   "file_extension": ".py",
   "mimetype": "text/x-python",
   "name": "python",
   "nbconvert_exporter": "python",
   "pygments_lexer": "ipython3",
   "version": "3.6.8"
  }
 },
 "nbformat": 4,
 "nbformat_minor": 2
}
