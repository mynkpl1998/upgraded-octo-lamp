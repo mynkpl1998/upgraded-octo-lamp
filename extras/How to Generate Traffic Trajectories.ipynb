{
 "cells": [
  {
   "cell_type": "code",
   "execution_count": null,
   "metadata": {},
   "outputs": [],
   "source": [
    "import pickle\n",
    "import numpy as np\n",
    "import os\n",
    "import sys\n",
    "sys.path.insert(0, os.getcwd()[:-6])\n",
    "from v2i.src.core.common import loadPKL, savePKL"
   ]
  },
  {
   "cell_type": "markdown",
   "metadata": {},
   "source": [
    "## Moving from time one time period to other"
   ]
  },
  {
   "cell_type": "markdown",
   "metadata": {},
   "source": [
    "Earlier we were setting time period of $t=0.1$, which was too small. Based upon some calculation given here, we figured out $t=0.3$ will be good sampling rate to simulate. But how to change tfTrajectories files to make it work/sense with different time period"
   ]
  },
  {
   "cell_type": "markdown",
   "metadata": {},
   "source": [
    "### Copy Dictionary Structure\n",
    "\n",
    "Copy the dictionary structre from existing tfTrajectory file. Provide the file path here to clone"
   ]
  },
  {
   "cell_type": "code",
   "execution_count": 2,
   "metadata": {},
   "outputs": [],
   "source": [
    "# dictionary structure to copy\n",
    "file = \"/home/mayank/Documents/upgraded-octo-lamp/v2i/src/data/tftrajec.pkl\""
   ]
  },
  {
   "cell_type": "markdown",
   "metadata": {},
   "source": [
    "### Have a look at directory struicture. \n",
    "It has three components.\n",
    "    1. metadata - it maintains the information about the dictionary which is used by simulator to validate details.\n",
    "    2. data - list of pts\n",
    "    3. numTrajecs - size of data list"
   ]
  },
  {
   "cell_type": "code",
   "execution_count": 3,
   "metadata": {},
   "outputs": [],
   "source": [
    "d = loadPKL(file)"
   ]
  },
  {
   "cell_type": "code",
   "execution_count": 4,
   "metadata": {},
   "outputs": [
    {
     "data": {
      "text/plain": [
       "dict_keys(['metadata', 'data', 'numTrajecs'])"
      ]
     },
     "execution_count": 4,
     "metadata": {},
     "output_type": "execute_result"
    }
   ],
   "source": [
    "d.keys()"
   ]
  },
  {
   "cell_type": "code",
   "execution_count": 5,
   "metadata": {},
   "outputs": [
    {
     "data": {
      "text/plain": [
       "{'max': 60,\n",
       " 'min': 30,\n",
       " 'time-period': 0.3,\n",
       " 'num-tries': 200,\n",
       " 'horizon': 10000,\n",
       " 'pts': 10}"
      ]
     },
     "execution_count": 5,
     "metadata": {},
     "output_type": "execute_result"
    }
   ],
   "source": [
    "d['metadata']"
   ]
  },
  {
   "cell_type": "markdown",
   "metadata": {},
   "source": [
    "### Reset the data list and trajectories counter\n",
    "We will generate the new data and will increment the counter. "
   ]
  },
  {
   "cell_type": "code",
   "execution_count": 6,
   "metadata": {},
   "outputs": [
    {
     "name": "stdout",
     "output_type": "stream",
     "text": [
      "[]\n"
     ]
    }
   ],
   "source": [
    "d['data'] = []\n",
    "print(d['data'])"
   ]
  },
  {
   "cell_type": "code",
   "execution_count": 7,
   "metadata": {},
   "outputs": [
    {
     "name": "stdout",
     "output_type": "stream",
     "text": [
      "0\n"
     ]
    }
   ],
   "source": [
    "d['numTrajecs'] = 0\n",
    "print(d['numTrajecs'])"
   ]
  },
  {
   "cell_type": "markdown",
   "metadata": {},
   "source": [
    "# Calculate new max/min duration of traffic lights\n",
    "\n",
    "min duration of traffic light is calculated based on the time agent takes to reach to traffic light if it is travelling at max speed of 10m/s. In similar way, we can convert those seconds into steps"
   ]
  },
  {
   "cell_type": "code",
   "execution_count": 8,
   "metadata": {},
   "outputs": [],
   "source": [
    "minTime = 30\n",
    "maxTime = 60\n",
    "minSteps = 100\n",
    "maxSteps = 200\n",
    "horizon = 3350"
   ]
  },
  {
   "cell_type": "code",
   "execution_count": 9,
   "metadata": {},
   "outputs": [],
   "source": [
    "def randomTimeDuration(minDur, maxDur, num):\n",
    "    durs = np.random.randint(minDur, maxDur, num)\n",
    "    return durs\n",
    "        "
   ]
  },
  {
   "cell_type": "code",
   "execution_count": 10,
   "metadata": {},
   "outputs": [],
   "source": [
    "allPts = [[500, 1200, 1600, 2300, 2800, 3100] ,\n",
    "          [200, 700, 1000, 1500, 1900, 2500],\n",
    "          [100, 400, 1400, 2000, 2500, 2700],\n",
    "          [100, 1000, 1500, 2200, 2800, 3100],\n",
    "          [300, 800, 1400, 1700, 2000, 2700],\n",
    "          [1000, 1600, 2100, 2500, 2900, 3200],\n",
    "          [1200, 1600, 2100, 2500, 2900, 3200]]"
   ]
  },
  {
   "cell_type": "markdown",
   "metadata": {},
   "source": [
    "# Generate points"
   ]
  },
  {
   "cell_type": "code",
   "execution_count": 11,
   "metadata": {},
   "outputs": [
    {
     "name": "stdout",
     "output_type": "stream",
     "text": [
      "[[[500, 129], [1200, 198], [1600, 187], [2300, 178], [2800, 191], [3100, 140]], [[200, 135], [700, 140], [1000, 165], [1500, 139], [1900, 163], [2500, 144]], [[100, 172], [400, 147], [1400, 117], [2000, 118], [2500, 118], [2700, 173]], [[100, 169], [1000, 172], [1500, 100], [2200, 161], [2800, 152], [3100, 141]], [[300, 169], [800, 111], [1400, 153], [1700, 140], [2000, 197], [2700, 117]], [[1000, 183], [1600, 118], [2100, 109], [2500, 110], [2900, 190], [3200, 192]], [[1200, 189], [1600, 142], [2100, 156], [2500, 112], [2900, 169], [3200, 133]]]\n"
     ]
    }
   ],
   "source": [
    "d['data'] = []\n",
    "d['numTrajecs'] = 0\n",
    "for pts in allPts:\n",
    "    durs = randomTimeDuration(minSteps, maxSteps, len(pts))\n",
    "    newList = []\n",
    "    for index, p in enumerate(pts):\n",
    "        newList.append([p, durs[index]])\n",
    "    d['data'].append(newList)\n",
    "    d['numTrajecs'] += 1\n",
    "print(d['data'])"
   ]
  },
  {
   "cell_type": "code",
   "execution_count": 12,
   "metadata": {},
   "outputs": [],
   "source": [
    "d['metadata']['pts'] = len(d['data'][0])\n",
    "d['metadata']['horizon'] = horizon"
   ]
  },
  {
   "cell_type": "markdown",
   "metadata": {},
   "source": [
    "### Validate generated pts\n"
   ]
  },
  {
   "cell_type": "code",
   "execution_count": 13,
   "metadata": {},
   "outputs": [],
   "source": [
    "for pts in d[\"data\"]:\n",
    "    for p in pts:\n",
    "        low = p[0]\n",
    "        high = p[0] + p[1]\n",
    "        diff = high - low\n",
    "        \n",
    "        if diff >= minSteps and diff <= maxSteps:\n",
    "            pass\n",
    "        else:\n",
    "            raise ValueError(\"invalid @ \", p, \"Difference : \", diff)\n",
    "        "
   ]
  },
  {
   "cell_type": "markdown",
   "metadata": {},
   "source": [
    "### Save Final Dictionary"
   ]
  },
  {
   "cell_type": "code",
   "execution_count": 15,
   "metadata": {},
   "outputs": [
    {
     "data": {
      "text/plain": [
       "True"
      ]
     },
     "execution_count": 15,
     "metadata": {},
     "output_type": "execute_result"
    }
   ],
   "source": [
    "savePKL(d, file)"
   ]
  }
 ],
 "metadata": {
  "kernelspec": {
   "display_name": "Python 3",
   "language": "python",
   "name": "python3"
  },
  "language_info": {
   "codemirror_mode": {
    "name": "ipython",
    "version": 3
   },
   "file_extension": ".py",
   "mimetype": "text/x-python",
   "name": "python",
   "nbconvert_exporter": "python",
   "pygments_lexer": "ipython3",
   "version": "3.6.8"
  }
 },
 "nbformat": 4,
 "nbformat_minor": 2
}
