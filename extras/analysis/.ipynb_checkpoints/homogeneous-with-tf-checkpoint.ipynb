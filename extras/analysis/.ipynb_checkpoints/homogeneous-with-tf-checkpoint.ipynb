{
 "cells": [
  {
   "cell_type": "markdown",
   "metadata": {},
   "source": [
    "### Import libraries here"
   ]
  },
  {
   "cell_type": "code",
   "execution_count": 1,
   "metadata": {},
   "outputs": [],
   "source": [
    "libPath = '/home/mayank/Documents/upgraded-octo-lamp/'\n",
    "import sys\n",
    "sys.path.append(libPath)\n",
    "import numpy as np\n",
    "%matplotlib inline\n",
    "import matplotlib.pyplot as plt\n",
    "\n",
    "from v2i.src.core.common import loadPKL"
   ]
  },
  {
   "cell_type": "markdown",
   "metadata": {},
   "source": [
    "## Data files"
   ]
  },
  {
   "cell_type": "code",
   "execution_count": 2,
   "metadata": {},
   "outputs": [],
   "source": [
    "onlyLV10mPath = \"/home/mayank/ray_results/homogeneous-with-tf-LV-40m/onlyLocalView10m_gamma_0.999_shared_vf/data_tf_enabled.pkl\"\n",
    "onlyLV40mPath = \"/home/mayank/ray_results/homogeneous-with-tf-LV-40m/onlyLocalView40m_gamma_0.999_shared_vf/data_tf_enabled.pkl\"\n",
    "FC40mPath = '/home/mayank/ray_results/homogeneous-with-tf-LV-40m/fullComm40m_gamma_0.999_vf_shared_part_2/data_tf_enabled.pkl'\n",
    "FC40mAgePath = '/home/mayank/ray_results/homogeneous-with-tf-LV-40m/fullComm40Age-age-v1-part-2/data_tf_enabled.pkl'\n",
    "\n",
    "# no tf lights\n",
    "FC40mPathNoTF = '/home/mayank/ray_results/homogeneous-with-tf-LV-40m/fullComm40m_gamma_0.999_vf_shared_part_2/data_tf_disabled.pkl'\n",
    "onlyLV10mNoTFPath = '/home/mayank/ray_results/homogeneous-with-tf-LV-40m/onlyLocalView10m_gamma_0.999_shared_vf/data_tf_disabled.pkl'\n",
    "onlyLV40mNoTFPath = '/home/mayank/ray_results/homogeneous-with-tf-LV-40m/onlyLocalView40m_gamma_0.999_shared_vf/data_tf_disabled.pkl'\n",
    "FC40mAgePathNoTF = '/home/mayank/ray_results/homogeneous-with-tf-LV-40m/fullComm40Age-age-v1-part-2/data_tf_disabled.pkl'"
   ]
  },
  {
   "cell_type": "markdown",
   "metadata": {},
   "source": [
    "## Load all data"
   ]
  },
  {
   "cell_type": "code",
   "execution_count": 3,
   "metadata": {},
   "outputs": [],
   "source": [
    "onlyLV10mData = loadPKL(onlyLV10mPath)\n",
    "onlyLV40mData = loadPKL(onlyLV40mPath)\n",
    "FC40mData = loadPKL(FC40mPath)\n",
    "FC40mAgeData = loadPKL(FC40mAgePath)\n",
    "\n",
    "# no tf lights\n",
    "FC40mDataNoTF = loadPKL(FC40mPathNoTF)\n",
    "FC40mAgeDataNoTF = loadPKL(FC40mAgePathNoTF)\n",
    "onlyLV10mDataNoTF = loadPKL(onlyLV10mNoTFPath)\n",
    "onlyLV40mDataNoTF = loadPKL(onlyLV40mNoTFPath)"
   ]
  },
  {
   "cell_type": "markdown",
   "metadata": {},
   "source": [
    "# Get density"
   ]
  },
  {
   "cell_type": "code",
   "execution_count": 4,
   "metadata": {},
   "outputs": [
    {
     "name": "stdout",
     "output_type": "stream",
     "text": [
      "0.2_0.2\n"
     ]
    }
   ],
   "source": [
    "episodesDensity = list(onlyLV10mData['data'].keys())[0]\n",
    "print(episodesDensity)"
   ]
  },
  {
   "cell_type": "markdown",
   "metadata": {},
   "source": [
    "<h1 align=\"center\"> With Traffic Lights </h1>"
   ]
  },
  {
   "cell_type": "markdown",
   "metadata": {},
   "source": [
    "# Assert episode density of all cases"
   ]
  },
  {
   "cell_type": "code",
   "execution_count": 29,
   "metadata": {},
   "outputs": [],
   "source": [
    "assert list(onlyLV10mData['data'].keys())[0] == episodesDensity\n",
    "assert list(onlyLV40mData['data'].keys())[0] == episodesDensity\n",
    "assert list(FC40mData['data'].keys())[0] == episodesDensity\n",
    "assert list(FC40mAgeData['data'].keys())[0] == episodesDensity"
   ]
  },
  {
   "cell_type": "markdown",
   "metadata": {},
   "source": [
    "# Agent average speed comparison"
   ]
  },
  {
   "cell_type": "code",
   "execution_count": 6,
   "metadata": {},
   "outputs": [],
   "source": [
    "def avgSpeed(dataDict):\n",
    "    data = {}\n",
    "    data['complete'] = []\n",
    "    data['not-complete'] = []\n",
    "    \n",
    "    for episode in dataDict['data'][episodesDensity].keys():\n",
    "        agentCarID = dataDict['data'][episodesDensity][episode]['agentCarID']\n",
    "        epLen = len(dataDict['data'][episodesDensity][episode]['speed'][agentCarID])\n",
    "        \n",
    "        if epLen == (dataDict['max-episode-length'] + 1):\n",
    "            agentCarID = dataDict['data'][episodesDensity][episode]['agentCarID']\n",
    "            speedData = dataDict['data'][episodesDensity][episode]['speed'][agentCarID]\n",
    "            data['complete'].append(speedData)\n",
    "        else:\n",
    "            speedData = dataDict['data'][episodesDensity][episode]['speed'][agentCarID]\n",
    "            data['not-complete'].append(speedData)\n",
    "    data['complete'] = np.array(data['complete'])\n",
    "    totalEpisodes = len(data['complete']) + len(data['not-complete'])\n",
    "    \n",
    "    print(\"Complete episodes : %.2f\"%(len(data['complete'])/totalEpisodes))\n",
    "    print(\"%d/%d\"%(len(data['complete']), totalEpisodes))\n",
    "    return data"
   ]
  },
  {
   "cell_type": "code",
   "execution_count": 7,
   "metadata": {},
   "outputs": [
    {
     "name": "stdout",
     "output_type": "stream",
     "text": [
      "Complete episodes : 0.84\n",
      "42/50\n"
     ]
    }
   ],
   "source": [
    "onlyLV10mspeedData = avgSpeed(onlyLV10mData)\n",
    "onlyLV10mspeed = onlyLV10mspeedData['complete'].sum(axis=1) / onlyLV10mspeedData['complete'].shape[1]\n",
    "onlyLV10mspeed *= 3.6"
   ]
  },
  {
   "cell_type": "code",
   "execution_count": 8,
   "metadata": {},
   "outputs": [
    {
     "name": "stdout",
     "output_type": "stream",
     "text": [
      "Complete episodes : 0.66\n",
      "33/50\n"
     ]
    }
   ],
   "source": [
    "onlyLV40mspeedData = avgSpeed(onlyLV40mData)\n",
    "onlyLV40mspeed = onlyLV40mspeedData['complete'].sum(axis=1) / onlyLV40mspeedData['complete'].shape[1]\n",
    "onlyLV40mspeed *= 3.6"
   ]
  },
  {
   "cell_type": "code",
   "execution_count": 9,
   "metadata": {},
   "outputs": [
    {
     "name": "stdout",
     "output_type": "stream",
     "text": [
      "Complete episodes : 0.69\n",
      "55/80\n"
     ]
    }
   ],
   "source": [
    "FC40mspeedData = avgSpeed(FC40mData)\n",
    "FC40mspeed = FC40mspeedData['complete'].sum(axis=1) / FC40mspeedData['complete'].shape[1]\n",
    "FC40mspeed *= 3.6"
   ]
  },
  {
   "cell_type": "code",
   "execution_count": 10,
   "metadata": {},
   "outputs": [
    {
     "name": "stdout",
     "output_type": "stream",
     "text": [
      "Complete episodes : 0.45\n",
      "36/80\n"
     ]
    }
   ],
   "source": [
    "FC40mAgespeedData = avgSpeed(FC40mAgeData)\n",
    "FC40mAgespeed = FC40mAgespeedData['complete'].sum(axis=1) / FC40mAgespeedData['complete'].shape[1]\n",
    "FC40mAgespeed *= 3.6"
   ]
  },
  {
   "cell_type": "code",
   "execution_count": 11,
   "metadata": {
    "scrolled": true
   },
   "outputs": [
    {
     "data": {
      "image/png": "[encoded data removed]",
      "text/plain": [
       "<Figure size 432x288 with 1 Axes>"
      ]
     },
     "metadata": {
      "needs_background": "light"
     },
     "output_type": "display_data"
    }
   ],
   "source": [
    "xticks = ['LV 10m', 'LV 40m', 'FC 40m', 'Age FC 40m']\n",
    "plt.xticks([0, 1, 2, 3], xticks)\n",
    "plt.bar([0, 1, 2, 3], [onlyLV10mspeed.mean(), onlyLV40mspeed.mean(), FC40mspeed.mean(), FC40mAgespeed.mean()], yerr=[onlyLV10mspeed.std(), onlyLV40mspeed.std(), FC40mspeed.std(), FC40mAgespeed.std()])\n",
    "plt.ylabel('avg. agent speed (km/hr)')\n",
    "plt.show()\n",
    "#plt.grid()"
   ]
  },
  {
   "cell_type": "markdown",
   "metadata": {},
   "source": [
    "### No TF case"
   ]
  },
  {
   "cell_type": "code",
   "execution_count": 12,
   "metadata": {},
   "outputs": [
    {
     "name": "stdout",
     "output_type": "stream",
     "text": [
      "Complete episodes : 0.91\n",
      "73/80\n",
      "Complete episodes : 0.99\n",
      "79/80\n",
      "Complete episodes : 0.99\n",
      "79/80\n",
      "Complete episodes : 0.86\n",
      "69/80\n"
     ]
    }
   ],
   "source": [
    "FC40mspeedDataNoTF = avgSpeed(FC40mDataNoTF)\n",
    "LV10mspeedDataNoTF = avgSpeed(onlyLV10mDataNoTF)\n",
    "LV40mspeedDataNoTF = avgSpeed(onlyLV40mDataNoTF)\n",
    "FC40mAgespeedDataNoTF = avgSpeed(FC40mAgeDataNoTF)"
   ]
  },
  {
   "cell_type": "code",
   "execution_count": 13,
   "metadata": {},
   "outputs": [
    {
     "name": "stdout",
     "output_type": "stream",
     "text": [
      "(73, 2201)\n",
      "(79, 2201)\n",
      "(79, 2201)\n",
      "(69, 2201)\n"
     ]
    }
   ],
   "source": [
    "print(FC40mspeedDataNoTF['complete'].shape)\n",
    "print(LV10mspeedDataNoTF['complete'].shape)\n",
    "print(LV40mspeedDataNoTF['complete'].shape)\n",
    "print(FC40mAgespeedDataNoTF['complete'].shape)"
   ]
  },
  {
   "cell_type": "markdown",
   "metadata": {},
   "source": [
    "## Percentage of planning actions"
   ]
  },
  {
   "cell_type": "code",
   "execution_count": 14,
   "metadata": {},
   "outputs": [],
   "source": [
    "def getPlanActStats(dataDict):\n",
    "    data = {}\n",
    "    data['complete'] = []\n",
    "    data['not-complete'] = []\n",
    "    \n",
    "    for episode in dataDict['data'][episodesDensity].keys():\n",
    "        actData = dataDict['data'][episodesDensity][episode]['actions']\n",
    "        epLen = len(actData)\n",
    "        if epLen == dataDict['max-episode-length']:\n",
    "            data['complete'].append(actData)\n",
    "        else:\n",
    "            data['not-complete'].append(actData)\n",
    "    totalEpisodes = len(data['complete']) + len(data['not-complete'])\n",
    "    print(\"Complete episodes : %.2f\"%(len(data['complete'])/totalEpisodes))\n",
    "    print(\"%d/%d\"%(len(data['complete']), totalEpisodes))\n",
    "    return data"
   ]
  },
  {
   "cell_type": "code",
   "execution_count": 15,
   "metadata": {},
   "outputs": [],
   "source": [
    "planEncode = {}\n",
    "planEncode['acc'] = 0\n",
    "planEncode['dec'] = 1\n",
    "planEncode['do-nothing'] = 2\n",
    "planEncode['lane-change'] = 3"
   ]
  },
  {
   "cell_type": "code",
   "execution_count": 16,
   "metadata": {},
   "outputs": [],
   "source": [
    "regs = ['reg_0', 'reg_1', 'null']"
   ]
  },
  {
   "cell_type": "code",
   "execution_count": 17,
   "metadata": {},
   "outputs": [],
   "source": [
    "def parsePlanActs(episodes, keyMap):\n",
    "    dataCount = {}\n",
    "    for key in keyMap:\n",
    "        dataCount[key] = 0\n",
    "    \n",
    "    stepsCount = 0\n",
    "    for episode in episodes:\n",
    "        for step in episode:\n",
    "            dataCount[step[0]] += 1\n",
    "            stepsCount += 1\n",
    "    \n",
    "    # Normalize the dict\n",
    "    for key in keyMap:\n",
    "        dataCount[key] /= stepsCount\n",
    "\n",
    "    # Convert into percentages\n",
    "    for key in keyMap:\n",
    "        dataCount[key] *= 100.0\n",
    "    return dataCount"
   ]
  },
  {
   "cell_type": "code",
   "execution_count": 18,
   "metadata": {},
   "outputs": [],
   "source": [
    "def parseRegs(episodes, keyMap):\n",
    "    dataCount = {}\n",
    "    for key in keyMap:\n",
    "        dataCount[key] = 0\n",
    "    \n",
    "    stepsCount = 0\n",
    "    for episode in episodes:\n",
    "        for step in episode:\n",
    "            dataCount[step[1]] += 1\n",
    "            stepsCount += 1\n",
    "    \n",
    "    # Normalize the dict\n",
    "    for key in keyMap:\n",
    "        dataCount[key] /= stepsCount\n",
    "    \n",
    "    # Convert into percentages\n",
    "    for key in keyMap:\n",
    "        dataCount[key] *= 100.0\n",
    "    return dataCount"
   ]
  },
  {
   "cell_type": "code",
   "execution_count": 19,
   "metadata": {},
   "outputs": [
    {
     "name": "stdout",
     "output_type": "stream",
     "text": [
      "Complete episodes : 0.84\n",
      "42/50\n",
      "{'acc': 54.32251082251083, 'dec': 26.886363636363637, 'do-nothing': 18.76731601731602, 'lane-change': 0.023809523809523808}\n"
     ]
    }
   ],
   "source": [
    "onlyLV10mActsStat = getPlanActStats(onlyLV10mData)\n",
    "onlyLV10mplanActs = parsePlanActs(onlyLV10mActsStat['complete'],planEncode)\n",
    "print(onlyLV10mplanActs)"
   ]
  },
  {
   "cell_type": "code",
   "execution_count": 20,
   "metadata": {},
   "outputs": [
    {
     "name": "stdout",
     "output_type": "stream",
     "text": [
      "Complete episodes : 0.66\n",
      "33/50\n",
      "{'acc': 31.94490358126722, 'dec': 17.431129476584022, 'do-nothing': 43.24517906336089, 'lane-change': 7.378787878787879}\n"
     ]
    }
   ],
   "source": [
    "onlyLV40mActsStat = getPlanActStats(onlyLV40mData)\n",
    "onlyLV40mplanActs = parsePlanActs(onlyLV40mActsStat['complete'], planEncode)\n",
    "print(onlyLV40mplanActs)"
   ]
  },
  {
   "cell_type": "code",
   "execution_count": 21,
   "metadata": {},
   "outputs": [
    {
     "name": "stdout",
     "output_type": "stream",
     "text": [
      "Complete episodes : 0.69\n",
      "55/80\n"
     ]
    }
   ],
   "source": [
    "FC40mActsStat = getPlanActStats(FC40mData)\n",
    "FC40mplanActs = parsePlanActs(FC40mActsStat['complete'], planEncode)\n",
    "FC40mcommActs = parseRegs(FC40mActsStat['complete'], regs)"
   ]
  },
  {
   "cell_type": "code",
   "execution_count": 22,
   "metadata": {},
   "outputs": [
    {
     "name": "stdout",
     "output_type": "stream",
     "text": [
      "Complete episodes : 0.45\n",
      "36/80\n"
     ]
    }
   ],
   "source": [
    "FC40mAgeActsStat = getPlanActStats(FC40mAgeData)\n",
    "FC40mAgeplanActs = parsePlanActs(FC40mAgeActsStat['complete'], planEncode)\n",
    "FC40mAgecommActs = parseRegs(FC40mAgeActsStat['complete'], regs)"
   ]
  },
  {
   "cell_type": "code",
   "execution_count": 23,
   "metadata": {},
   "outputs": [
    {
     "data": {
      "text/plain": [
       "{'reg_0': 38.957070707070706,\n",
       " 'reg_1': 29.305555555555557,\n",
       " 'null': 31.737373737373737}"
      ]
     },
     "execution_count": 23,
     "metadata": {},
     "output_type": "execute_result"
    }
   ],
   "source": [
    "FC40mAgecommActs"
   ]
  },
  {
   "cell_type": "code",
   "execution_count": 24,
   "metadata": {},
   "outputs": [
    {
     "data": {
      "image/png": "[encoded data removed]",
      "text/plain": [
       "<Figure size 432x288 with 1 Axes>"
      ]
     },
     "metadata": {
      "needs_background": "light"
     },
     "output_type": "display_data"
    }
   ],
   "source": [
    "accBar = [onlyLV10mplanActs['acc'], onlyLV40mplanActs['acc'], FC40mplanActs['acc'], FC40mAgeplanActs['acc']]\n",
    "decBar = [onlyLV10mplanActs['dec'], onlyLV40mplanActs['dec'], FC40mplanActs['dec'], FC40mAgeplanActs['dec']]\n",
    "laneChangeBar = [onlyLV10mplanActs['lane-change'], onlyLV40mplanActs['lane-change'], FC40mplanActs['lane-change'], FC40mAgeplanActs['lane-change']]\n",
    "nothingBar = [onlyLV10mplanActs['do-nothing'], onlyLV40mplanActs['do-nothing'], FC40mplanActs['do-nothing'], FC40mAgeplanActs['do-nothing']]\n",
    "plt.bar(np.array([0, 1, 2, 3]) - 0.21, accBar, width=0.2, label='acc')\n",
    "plt.bar(np.array([0, 1, 2, 3]), decBar, width=0.2, label='dec')\n",
    "plt.bar(np.array([0, 1, 2, 3]) + 0.21, nothingBar, width=0.2, label='do-nothing')\n",
    "plt.bar(np.array([0, 1, 2, 3]) + 0.42, laneChangeBar, width=0.2, label='lane-change')\n",
    "plt.xticks([0, 1, 2, 3], xticks)\n",
    "plt.legend()\n",
    "plt.ylabel('%')\n",
    "plt.title('Planning action distribution')\n",
    "plt.show()"
   ]
  },
  {
   "cell_type": "code",
   "execution_count": 25,
   "metadata": {},
   "outputs": [
    {
     "data": {
      "image/png": "[encoded data removed]",
      "text/plain": [
       "<Figure size 432x288 with 1 Axes>"
      ]
     },
     "metadata": {
      "needs_background": "light"
     },
     "output_type": "display_data"
    }
   ],
   "source": [
    "rearBar = [FC40mcommActs['reg_0'], FC40mAgecommActs['reg_0'], FC40mcommActs['reg_0']]\n",
    "frontBar = [FC40mcommActs['reg_1'], FC40mAgecommActs['reg_1'], FC40mcommActs['reg_1']]\n",
    "nullBar = [FC40mcommActs['null'], FC40mAgecommActs['null'], FC40mcommActs['null']]\n",
    "\n",
    "xticks = ['FC 40m', 'Age FC 40m', 'FC 40m']\n",
    "plt.xticks([0, 1, 2], xticks)\n",
    "plt.bar(np.arange(0, len([0, 1, 2])) - 0.21, rearBar, width=0.2, label='rear')\n",
    "plt.bar(np.arange(0, len([0, 1,2 ])), frontBar, width=0.2, label='front')\n",
    "plt.bar(np.arange(0, len([0, 1, 2])) + 0.21, nullBar, width=0.2, label='null')\n",
    "plt.legend()\n",
    "plt.ylabel('%')\n",
    "plt.title('Region query distribution')\n",
    "plt.show()"
   ]
  },
  {
   "cell_type": "markdown",
   "metadata": {},
   "source": [
    "## Agent speed as function of time"
   ]
  },
  {
   "cell_type": "markdown",
   "metadata": {},
   "source": [
    "### with TF"
   ]
  },
  {
   "cell_type": "code",
   "execution_count": 26,
   "metadata": {},
   "outputs": [
    {
     "data": {
      "image/png": "[encoded data removed]",
      "text/plain": [
       "<Figure size 432x288 with 1 Axes>"
      ]
     },
     "metadata": {
      "needs_background": "light"
     },
     "output_type": "display_data"
    }
   ],
   "source": [
    "plt.plot(onlyLV10mspeedData['complete'].mean(axis=0), label='LV 10m')\n",
    "plt.plot(onlyLV40mspeedData['complete'].mean(axis=0), label='LV 40m')\n",
    "plt.plot(FC40mspeedData['complete'].mean(axis=0), label='FC 40m')\n",
    "plt.plot(FC40mAgespeedData['complete'].mean(axis=0), label='Age FC 40m')\n",
    "plt.xlabel('time steps')\n",
    "plt.legend()\n",
    "plt.title(\"with tf lights\")\n",
    "plt.ylabel('mean avg speed (km/hr)')\n",
    "plt.show()"
   ]
  },
  {
   "cell_type": "markdown",
   "metadata": {},
   "source": [
    "<h1 align=\"center\"> Without traffic lights </h1>"
   ]
  },
  {
   "cell_type": "markdown",
   "metadata": {},
   "source": [
    "# Assert episode density of all cases"
   ]
  },
  {
   "cell_type": "code",
   "execution_count": 28,
   "metadata": {},
   "outputs": [],
   "source": [
    "assert list(onlyLV10mDataNoTF['data'].keys())[0] == episodesDensity\n",
    "assert list(onlyLV40mDataNoTF['data'].keys())[0] == episodesDensity\n",
    "assert list(FC40mDataNoTF['data'].keys())[0] == episodesDensity\n",
    "assert list(FC40mAgeDataNoTF['data'].keys())[0] == episodesDensity"
   ]
  },
  {
   "cell_type": "markdown",
   "metadata": {},
   "source": [
    "# Agent average speed comparison"
   ]
  },
  {
   "cell_type": "code",
   "execution_count": 30,
   "metadata": {},
   "outputs": [
    {
     "name": "stdout",
     "output_type": "stream",
     "text": [
      "Complete episodes : 0.99\n",
      "79/80\n"
     ]
    }
   ],
   "source": [
    "onlyLV10mspeedDataNoTF = avgSpeed(onlyLV10mDataNoTF)\n",
    "onlyLV10mspeedNoTF = onlyLV10mspeedDataNoTF['complete'].sum(axis=1) / onlyLV10mspeedDataNoTF['complete'].shape[1]\n",
    "onlyLV10mspeedNoTF *= 3.6"
   ]
  },
  {
   "cell_type": "code",
   "execution_count": 31,
   "metadata": {},
   "outputs": [
    {
     "name": "stdout",
     "output_type": "stream",
     "text": [
      "Complete episodes : 0.99\n",
      "79/80\n"
     ]
    }
   ],
   "source": [
    "onlyLV40mspeedDataNoTF = avgSpeed(onlyLV40mDataNoTF)\n",
    "onlyLV40mspeedNoTF = onlyLV40mspeedDataNoTF['complete'].sum(axis=1) / onlyLV40mspeedDataNoTF['complete'].shape[1]\n",
    "onlyLV40mspeedNoTF *= 3.6"
   ]
  },
  {
   "cell_type": "code",
   "execution_count": 32,
   "metadata": {},
   "outputs": [
    {
     "name": "stdout",
     "output_type": "stream",
     "text": [
      "Complete episodes : 0.91\n",
      "73/80\n"
     ]
    }
   ],
   "source": [
    "FC40mspeedDataNoTF = avgSpeed(FC40mDataNoTF)\n",
    "FC40mspeedNoTF = FC40mspeedDataNoTF['complete'].sum(axis=1) / FC40mspeedDataNoTF['complete'].shape[1]\n",
    "FC40mspeedNoTF *= 3.6"
   ]
  },
  {
   "cell_type": "code",
   "execution_count": 33,
   "metadata": {},
   "outputs": [
    {
     "name": "stdout",
     "output_type": "stream",
     "text": [
      "Complete episodes : 0.86\n",
      "69/80\n"
     ]
    }
   ],
   "source": [
    "FC40mAgespeedDataNoTF = avgSpeed(FC40mAgeDataNoTF)\n",
    "FC40mAgespeedNoTF = FC40mAgespeedDataNoTF['complete'].sum(axis=1) / FC40mAgespeedDataNoTF['complete'].shape[1]\n",
    "FC40mAgespeedNoTF *= 3.6"
   ]
  },
  {
   "cell_type": "code",
   "execution_count": 35,
   "metadata": {},
   "outputs": [
    {
     "data": {
      "image/png": "[encoded data removed]",
      "text/plain": [
       "<Figure size 432x288 with 1 Axes>"
      ]
     },
     "metadata": {
      "needs_background": "light"
     },
     "output_type": "display_data"
    }
   ],
   "source": [
    "xticks = ['LV 10m', 'LV 40m', 'FC 40m', 'Age FC 40m']\n",
    "plt.xticks([0, 1, 2, 3], xticks)\n",
    "plt.bar([0, 1, 2, 3], [onlyLV10mspeedNoTF.mean(), onlyLV40mspeedNoTF.mean(), FC40mspeedNoTF.mean(), FC40mAgespeedNoTF.mean()], yerr=[onlyLV10mspeedNoTF.std(), onlyLV40mspeedNoTF.std(), FC40mspeedNoTF.std(), FC40mAgespeedNoTF.std()])\n",
    "plt.ylabel('avg. agent speed (km/hr)')\n",
    "plt.title(\"Without tf lights\")\n",
    "plt.show()\n",
    "#plt.grid()"
   ]
  },
  {
   "cell_type": "markdown",
   "metadata": {},
   "source": [
    "# Action Distribution"
   ]
  },
  {
   "cell_type": "code",
   "execution_count": 36,
   "metadata": {},
   "outputs": [
    {
     "name": "stdout",
     "output_type": "stream",
     "text": [
      "Complete episodes : 0.99\n",
      "79/80\n",
      "{'acc': 57.0638665132336, 'dec': 25.07825086306099, 'do-nothing': 17.83199079401611, 'lane-change': 0.025891829689298044}\n"
     ]
    }
   ],
   "source": [
    "onlyLV10mActsStatNoTF = getPlanActStats(onlyLV10mDataNoTF)\n",
    "onlyLV10mplanActsNoTF = parsePlanActs(onlyLV10mActsStatNoTF['complete'],planEncode)\n",
    "print(onlyLV10mplanActsNoTF)"
   ]
  },
  {
   "cell_type": "code",
   "execution_count": 37,
   "metadata": {},
   "outputs": [
    {
     "name": "stdout",
     "output_type": "stream",
     "text": [
      "Complete episodes : 0.99\n",
      "79/80\n",
      "{'acc': 18.75546605293441, 'dec': 7.773878020713464, 'do-nothing': 53.0644418872267, 'lane-change': 20.40621403912543}\n"
     ]
    }
   ],
   "source": [
    "onlyLV40mActsStatNoTF = getPlanActStats(onlyLV40mDataNoTF)\n",
    "onlyLV40mplanActsNoTF = parsePlanActs(onlyLV40mActsStatNoTF['complete'], planEncode)\n",
    "print(onlyLV40mplanActsNoTF)"
   ]
  },
  {
   "cell_type": "code",
   "execution_count": 38,
   "metadata": {},
   "outputs": [
    {
     "name": "stdout",
     "output_type": "stream",
     "text": [
      "Complete episodes : 0.91\n",
      "73/80\n"
     ]
    }
   ],
   "source": [
    "FC40mActsStatNoTF = getPlanActStats(FC40mDataNoTF)\n",
    "FC40mplanActsNoTF = parsePlanActs(FC40mActsStatNoTF['complete'], planEncode)\n",
    "FC40mcommActsNoTF = parseRegs(FC40mActsStatNoTF['complete'], regs)"
   ]
  },
  {
   "cell_type": "code",
   "execution_count": 39,
   "metadata": {},
   "outputs": [
    {
     "name": "stdout",
     "output_type": "stream",
     "text": [
      "Complete episodes : 0.86\n",
      "69/80\n"
     ]
    }
   ],
   "source": [
    "FC40mAgeActsStatNoTF = getPlanActStats(FC40mAgeDataNoTF)\n",
    "FC40mAgeplanActsNoTF = parsePlanActs(FC40mAgeActsStatNoTF['complete'], planEncode)\n",
    "FC40mAgecommActsNoTF = parseRegs(FC40mAgeActsStatNoTF['complete'], regs)"
   ]
  },
  {
   "cell_type": "code",
   "execution_count": 40,
   "metadata": {},
   "outputs": [
    {
     "data": {
      "image/png": "[encoded data removed]",
      "text/plain": [
       "<Figure size 432x288 with 1 Axes>"
      ]
     },
     "metadata": {
      "needs_background": "light"
     },
     "output_type": "display_data"
    }
   ],
   "source": [
    "accBar = [onlyLV10mplanActsNoTF['acc'], onlyLV40mplanActsNoTF['acc'], FC40mplanActsNoTF['acc'], FC40mAgeplanActsNoTF['acc']]\n",
    "decBar = [onlyLV10mplanActsNoTF['dec'], onlyLV40mplanActsNoTF['dec'], FC40mplanActsNoTF['dec'], FC40mAgeplanActsNoTF['dec']]\n",
    "laneChangeBar = [onlyLV10mplanActsNoTF['lane-change'], onlyLV40mplanActsNoTF['lane-change'], FC40mplanActsNoTF['lane-change'], FC40mAgeplanActsNoTF['lane-change']]\n",
    "nothingBar = [onlyLV10mplanActsNoTF['do-nothing'], onlyLV40mplanActsNoTF['do-nothing'], FC40mplanActsNoTF['do-nothing'], FC40mAgeplanActsNoTF['do-nothing']]\n",
    "plt.bar(np.array([0, 1, 2, 3]) - 0.21, accBar, width=0.2, label='acc')\n",
    "plt.bar(np.array([0, 1, 2, 3]), decBar, width=0.2, label='dec')\n",
    "plt.bar(np.array([0, 1, 2, 3]) + 0.21, nothingBar, width=0.2, label='do-nothing')\n",
    "plt.bar(np.array([0, 1, 2, 3]) + 0.42, laneChangeBar, width=0.2, label='lane-change')\n",
    "plt.xticks([0, 1, 2, 3], xticks)\n",
    "plt.legend()\n",
    "plt.ylabel('%')\n",
    "plt.title('Planning action distribution (without tf lights)')\n",
    "plt.show()"
   ]
  },
  {
   "cell_type": "code",
   "execution_count": 41,
   "metadata": {},
   "outputs": [
    {
     "data": {
      "image/png": "[encoded data removed]",
      "text/plain": [
       "<Figure size 432x288 with 1 Axes>"
      ]
     },
     "metadata": {
      "needs_background": "light"
     },
     "output_type": "display_data"
    }
   ],
   "source": [
    "rearBar = [FC40mcommActsNoTF['reg_0'], FC40mAgecommActsNoTF['reg_0'], FC40mcommActsNoTF['reg_0']]\n",
    "frontBar = [FC40mcommActsNoTF['reg_1'], FC40mAgecommActsNoTF['reg_1'], FC40mcommActsNoTF['reg_1']]\n",
    "nullBar = [FC40mcommActsNoTF['null'], FC40mAgecommActsNoTF['null'], FC40mcommActsNoTF['null']]\n",
    "\n",
    "xticks = ['FC 40m', 'Age FC 40m', 'FC 40m']\n",
    "plt.xticks([0, 1, 2], xticks)\n",
    "plt.bar(np.arange(0, len([0, 1, 2])) - 0.21, rearBar, width=0.2, label='rear')\n",
    "plt.bar(np.arange(0, len([0, 1,2 ])), frontBar, width=0.2, label='front')\n",
    "plt.bar(np.arange(0, len([0, 1, 2])) + 0.21, nullBar, width=0.2, label='null')\n",
    "plt.legend()\n",
    "plt.ylabel('%')\n",
    "plt.title('Region query distribution (without tf lights)')\n",
    "plt.show()"
   ]
  },
  {
   "cell_type": "code",
   "execution_count": null,
   "metadata": {},
   "outputs": [],
   "source": []
  },
  {
   "cell_type": "markdown",
   "metadata": {},
   "source": [
    "### Without TF"
   ]
  },
  {
   "cell_type": "code",
   "execution_count": 27,
   "metadata": {},
   "outputs": [
    {
     "data": {
      "image/png": "[encoded data removed]",
      "text/plain": [
       "<Figure size 432x288 with 1 Axes>"
      ]
     },
     "metadata": {
      "needs_background": "light"
     },
     "output_type": "display_data"
    }
   ],
   "source": [
    "plt.plot(FC40mspeedDataNoTF['complete'].mean(axis=0) * 3.6, label='FC 40m')\n",
    "plt.plot(LV10mspeedDataNoTF['complete'].mean(axis=0) * 3.6, label='LV 10m')\n",
    "plt.plot(LV40mspeedDataNoTF['complete'].mean(axis=0) * 3.6, label='LV 40m')\n",
    "plt.plot(FC40mAgespeedDataNoTF['complete'].mean(axis=0) * 3.6, label='FC age 40m')\n",
    "plt.xlabel('time steps')\n",
    "plt.legend()\n",
    "plt.title(\"no tf lights\")\n",
    "plt.ylabel('mean avg speed (km/hr)')\n",
    "plt.show()"
   ]
  }
 ],
 "metadata": {
  "kernelspec": {
   "display_name": "Python 3",
   "language": "python",
   "name": "python3"
  },
  "language_info": {
   "codemirror_mode": {
    "name": "ipython",
    "version": 3
   },
   "file_extension": ".py",
   "mimetype": "text/x-python",
   "name": "python",
   "nbconvert_exporter": "python",
   "pygments_lexer": "ipython3",
   "version": "3.6.8"
  }
 },
 "nbformat": 4,
 "nbformat_minor": 2
}
