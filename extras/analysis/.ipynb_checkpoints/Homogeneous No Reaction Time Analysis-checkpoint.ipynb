{
 "cells": [
  {
   "cell_type": "markdown",
   "metadata": {},
   "source": [
    "### Import libraries here"
   ]
  },
  {
   "cell_type": "code",
   "execution_count": 1,
   "metadata": {},
   "outputs": [],
   "source": [
    "libPath = '/home/mayank/Documents/upgraded-octo-lamp/'\n",
    "import sys\n",
    "sys.path.append(libPath)\n",
    "import numpy as np\n",
    "%matplotlib notebook\n",
    "import matplotlib.pyplot as plt\n",
    "\n",
    "from v2i.src.core.common import loadPKL"
   ]
  },
  {
   "cell_type": "markdown",
   "metadata": {},
   "source": [
    "### Homogeneous Datafiles path"
   ]
  },
  {
   "cell_type": "code",
   "execution_count": 2,
   "metadata": {},
   "outputs": [],
   "source": [
    "homogeneousOnlyLocalView15mPath = '/home/mayank/ray_results/homogeneous-only-local-view-15m/PPO_v2i-v0_0_2019-11-05_12-18-55grg60_zo/data_tf_disabled.pkl'\n",
    "homogeneousLV15Comm15Path = '/home/mayank/ray_results/homogeneous-full-comm-LV15m-Comm-15m/PPO_v2i-v0_0_2019-11-05_19-37-35q9vbzp4w/data_tf_disabled.pkl'\n",
    "idmData = '/home/mayank/ray_results/homogeneous-only-local-view-15m/PPO_v2i-v0_0_2019-11-05_12-18-55grg60_zo/idmData.pkl'\n",
    "#heterogeneousOnlyLocalView15mPath = '/home/mayank/ray_results/heterogeneous-only-local-view-15m/PPO_v2i-v0_0_2019-11-06_01-29-19wd1ehb7g/data_tf_disabled.pkl'\n"
   ]
  },
  {
   "cell_type": "markdown",
   "metadata": {},
   "source": [
    "### Homogeneous no reaction time Datafiles path"
   ]
  },
  {
   "cell_type": "code",
   "execution_count": 3,
   "metadata": {},
   "outputs": [],
   "source": [
    "homoNoReactIdmData = '/home/mayank/ray_results/homogeneous-no-reaction-time-only-local-view-15m/idmData.pkl'"
   ]
  },
  {
   "cell_type": "markdown",
   "metadata": {},
   "source": [
    "# IDM vs no Reaction time IDM"
   ]
  },
  {
   "cell_type": "code",
   "execution_count": 4,
   "metadata": {},
   "outputs": [],
   "source": [
    "idmDataHomo = loadPKL(idmData)\n",
    "idmDataHomoNoReact = loadPKL(homoNoReactIdmData)"
   ]
  },
  {
   "cell_type": "code",
   "execution_count": 5,
   "metadata": {},
   "outputs": [],
   "source": [
    "idmDataCars = {}\n",
    "\n",
    "for carID in idmDataHomo[0][0].keys():\n",
    "    idmDataCars[carID] = []\n",
    "\n",
    "for episode in idmDataHomo[0].keys():\n",
    "    #print(idmDataHomo[0][episode].keys())\n",
    "    for carID in idmDataHomo[0][episode].keys():\n",
    "        idmDataCars[carID].append(idmDataHomo[0][episode][carID])"
   ]
  },
  {
   "cell_type": "code",
   "execution_count": 6,
   "metadata": {},
   "outputs": [],
   "source": [
    "idmDataCarsHomoNoReact = {}\n",
    "\n",
    "for carID in idmDataHomoNoReact[0][0].keys():\n",
    "    idmDataCarsHomoNoReact[carID] = []\n",
    "\n",
    "for episode in idmDataHomoNoReact[0].keys():\n",
    "    for carID in idmDataHomoNoReact[0][episode].keys():\n",
    "        idmDataCarsHomoNoReact[carID].append(idmDataHomoNoReact[0][episode][carID])"
   ]
  },
  {
   "cell_type": "code",
   "execution_count": 24,
   "metadata": {},
   "outputs": [
    {
     "data": {
      "application/javascript": [
       "/* Put everything inside the global mpl namespace */\n",
       "window.mpl = {};\n",
       "\n",
       "\n",
       "mpl.get_websocket_type = function() {\n",
       "    if (typeof(WebSocket) !== 'undefined') {\n",
       "        return WebSocket;\n",
       "    } else if (typeof(MozWebSocket) !== 'undefined') {\n",
       "        return MozWebSocket;\n",
       "    } else {\n",
       "        alert('Your browser does not have WebSocket support.' +\n",
       "              'Please try Chrome, Safari or Firefox ≥ 6. ' +\n",
       "              'Firefox 4 and 5 are also supported but you ' +\n",
       "              'have to enable WebSockets in about:config.');\n",
       "    };\n",
       "}\n",
       "\n",
       "mpl.figure = function(figure_id, websocket, ondownload, parent_element) {\n",
       "    this.id = figure_id;\n",
       "\n",
       "    this.ws = websocket;\n",
       "\n",
       "    this.supports_binary = (this.ws.binaryType != undefined);\n",
       "\n",
       "    if (!this.supports_binary) {\n",
       "        var warnings = document.getElementById(\"mpl-warnings\");\n",
       "        if (warnings) {\n",
       "            warnings.style.display = 'block';\n",
       "            warnings.textContent = (\n",
       "                \"This browser does not support binary websocket messages. \" +\n",
       "                    \"Performance may be slow.\");\n",
       "        }\n",
       "    }\n",
       "\n",
       "    this.imageObj = new Image();\n",
       "\n",
       "    this.context = undefined;\n",
       "    this.message = undefined;\n",
       "    this.canvas = undefined;\n",
       "    this.rubberband_canvas = undefined;\n",
       "    this.rubberband_context = undefined;\n",
       "    this.format_dropdown = undefined;\n",
       "\n",
       "    this.image_mode = 'full';\n",
       "\n",
       "    this.root = $('<div/>');\n",
       "    this._root_extra_style(this.root)\n",
       "    this.root.attr('style', 'display: inline-block');\n",
       "\n",
       "    $(parent_element).append(this.root);\n",
       "\n",
       "    this._init_header(this);\n",
       "    this._init_canvas(this);\n",
       "    this._init_toolbar(this);\n",
       "\n",
       "    var fig = this;\n",
       "\n",
       "    this.waiting = false;\n",
       "\n",
       "    this.ws.onopen =  function () {\n",
       "            fig.send_message(\"supports_binary\", {value: fig.supports_binary});\n",
       "            fig.send_message(\"send_image_mode\", {});\n",
       "            if (mpl.ratio != 1) {\n",
       "                fig.send_message(\"set_dpi_ratio\", {'dpi_ratio': mpl.ratio});\n",
       "            }\n",
       "            fig.send_message(\"refresh\", {});\n",
       "        }\n",
       "\n",
       "    this.imageObj.onload = function() {\n",
       "            if (fig.image_mode == 'full') {\n",
       "                // Full images could contain transparency (where diff images\n",
       "                // almost always do), so we need to clear the canvas so that\n",
       "                // there is no ghosting.\n",
       "                fig.context.clearRect(0, 0, fig.canvas.width, fig.canvas.height);\n",
       "            }\n",
       "            fig.context.drawImage(fig.imageObj, 0, 0);\n",
       "        };\n",
       "\n",
       "    this.imageObj.onunload = function() {\n",
       "        fig.ws.close();\n",
       "    }\n",
       "\n",
       "    this.ws.onmessage = this._make_on_message_function(this);\n",
       "\n",
       "    this.ondownload = ondownload;\n",
       "}\n",
       "\n",
       "mpl.figure.prototype._init_header = function() {\n",
       "    var titlebar = $(\n",
       "        '<div class=\"ui-dialog-titlebar ui-widget-header ui-corner-all ' +\n",
       "        'ui-helper-clearfix\"/>');\n",
       "    var titletext = $(\n",
       "        '<div class=\"ui-dialog-title\" style=\"width: 100%; ' +\n",
       "        'text-align: center; padding: 3px;\"/>');\n",
       "    titlebar.append(titletext)\n",
       "    this.root.append(titlebar);\n",
       "    this.header = titletext[0];\n",
       "}\n",
       "\n",
       "\n",
       "\n",
       "mpl.figure.prototype._canvas_extra_style = function(canvas_div) {\n",
       "\n",
       "}\n",
       "\n",
       "\n",
       "mpl.figure.prototype._root_extra_style = function(canvas_div) {\n",
       "\n",
       "}\n",
       "\n",
       "mpl.figure.prototype._init_canvas = function() {\n",
       "    var fig = this;\n",
       "\n",
       "    var canvas_div = $('<div/>');\n",
       "\n",
       "    canvas_div.attr('style', 'position: relative; clear: both; outline: 0');\n",
       "\n",
       "    function canvas_keyboard_event(event) {\n",
       "        return fig.key_event(event, event['data']);\n",
       "    }\n",
       "\n",
       "    canvas_div.keydown('key_press', canvas_keyboard_event);\n",
       "    canvas_div.keyup('key_release', canvas_keyboard_event);\n",
       "    this.canvas_div = canvas_div\n",
       "    this._canvas_extra_style(canvas_div)\n",
       "    this.root.append(canvas_div);\n",
       "\n",
       "    var canvas = $('<canvas/>');\n",
       "    canvas.addClass('mpl-canvas');\n",
       "    canvas.attr('style', \"left: 0; top: 0; z-index: 0; outline: 0\")\n",
       "\n",
       "    this.canvas = canvas[0];\n",
       "    this.context = canvas[0].getContext(\"2d\");\n",
       "\n",
       "    var backingStore = this.context.backingStorePixelRatio ||\n",
       "\tthis.context.webkitBackingStorePixelRatio ||\n",
       "\tthis.context.mozBackingStorePixelRatio ||\n",
       "\tthis.context.msBackingStorePixelRatio ||\n",
       "\tthis.context.oBackingStorePixelRatio ||\n",
       "\tthis.context.backingStorePixelRatio || 1;\n",
       "\n",
       "    mpl.ratio = (window.devicePixelRatio || 1) / backingStore;\n",
       "\n",
       "    var rubberband = $('<canvas/>');\n",
       "    rubberband.attr('style', \"position: absolute; left: 0; top: 0; z-index: 1;\")\n",
       "\n",
       "    var pass_mouse_events = true;\n",
       "\n",
       "    canvas_div.resizable({\n",
       "        start: function(event, ui) {\n",
       "            pass_mouse_events = false;\n",
       "        },\n",
       "        resize: function(event, ui) {\n",
       "            fig.request_resize(ui.size.width, ui.size.height);\n",
       "        },\n",
       "        stop: function(event, ui) {\n",
       "            pass_mouse_events = true;\n",
       "            fig.request_resize(ui.size.width, ui.size.height);\n",
       "        },\n",
       "    });\n",
       "\n",
       "    function mouse_event_fn(event) {\n",
       "        if (pass_mouse_events)\n",
       "            return fig.mouse_event(event, event['data']);\n",
       "    }\n",
       "\n",
       "    rubberband.mousedown('button_press', mouse_event_fn);\n",
       "    rubberband.mouseup('button_release', mouse_event_fn);\n",
       "    // Throttle sequential mouse events to 1 every 20ms.\n",
       "    rubberband.mousemove('motion_notify', mouse_event_fn);\n",
       "\n",
       "    rubberband.mouseenter('figure_enter', mouse_event_fn);\n",
       "    rubberband.mouseleave('figure_leave', mouse_event_fn);\n",
       "\n",
       "    canvas_div.on(\"wheel\", function (event) {\n",
       "        event = event.originalEvent;\n",
       "        event['data'] = 'scroll'\n",
       "        if (event.deltaY < 0) {\n",
       "            event.step = 1;\n",
       "        } else {\n",
       "            event.step = -1;\n",
       "        }\n",
       "        mouse_event_fn(event);\n",
       "    });\n",
       "\n",
       "    canvas_div.append(canvas);\n",
       "    canvas_div.append(rubberband);\n",
       "\n",
       "    this.rubberband = rubberband;\n",
       "    this.rubberband_canvas = rubberband[0];\n",
       "    this.rubberband_context = rubberband[0].getContext(\"2d\");\n",
       "    this.rubberband_context.strokeStyle = \"#000000\";\n",
       "\n",
       "    this._resize_canvas = function(width, height) {\n",
       "        // Keep the size of the canvas, canvas container, and rubber band\n",
       "        // canvas in synch.\n",
       "        canvas_div.css('width', width)\n",
       "        canvas_div.css('height', height)\n",
       "\n",
       "        canvas.attr('width', width * mpl.ratio);\n",
       "        canvas.attr('height', height * mpl.ratio);\n",
       "        canvas.attr('style', 'width: ' + width + 'px; height: ' + height + 'px;');\n",
       "\n",
       "        rubberband.attr('width', width);\n",
       "        rubberband.attr('height', height);\n",
       "    }\n",
       "\n",
       "    // Set the figure to an initial 600x600px, this will subsequently be updated\n",
       "    // upon first draw.\n",
       "    this._resize_canvas(600, 600);\n",
       "\n",
       "    // Disable right mouse context menu.\n",
       "    $(this.rubberband_canvas).bind(\"contextmenu\",function(e){\n",
       "        return false;\n",
       "    });\n",
       "\n",
       "    function set_focus () {\n",
       "        canvas.focus();\n",
       "        canvas_div.focus();\n",
       "    }\n",
       "\n",
       "    window.setTimeout(set_focus, 100);\n",
       "}\n",
       "\n",
       "mpl.figure.prototype._init_toolbar = function() {\n",
       "    var fig = this;\n",
       "\n",
       "    var nav_element = $('<div/>')\n",
       "    nav_element.attr('style', 'width: 100%');\n",
       "    this.root.append(nav_element);\n",
       "\n",
       "    // Define a callback function for later on.\n",
       "    function toolbar_event(event) {\n",
       "        return fig.toolbar_button_onclick(event['data']);\n",
       "    }\n",
       "    function toolbar_mouse_event(event) {\n",
       "        return fig.toolbar_button_onmouseover(event['data']);\n",
       "    }\n",
       "\n",
       "    for(var toolbar_ind in mpl.toolbar_items) {\n",
       "        var name = mpl.toolbar_items[toolbar_ind][0];\n",
       "        var tooltip = mpl.toolbar_items[toolbar_ind][1];\n",
       "        var image = mpl.toolbar_items[toolbar_ind][2];\n",
       "        var method_name = mpl.toolbar_items[toolbar_ind][3];\n",
       "\n",
       "        if (!name) {\n",
       "            // put a spacer in here.\n",
       "            continue;\n",
       "        }\n",
       "        var button = $('<button/>');\n",
       "        button.addClass('ui-button ui-widget ui-state-default ui-corner-all ' +\n",
       "                        'ui-button-icon-only');\n",
       "        button.attr('role', 'button');\n",
       "        button.attr('aria-disabled', 'false');\n",
       "        button.click(method_name, toolbar_event);\n",
       "        button.mouseover(tooltip, toolbar_mouse_event);\n",
       "\n",
       "        var icon_img = $('<span/>');\n",
       "        icon_img.addClass('ui-button-icon-primary ui-icon');\n",
       "        icon_img.addClass(image);\n",
       "        icon_img.addClass('ui-corner-all');\n",
       "\n",
       "        var tooltip_span = $('<span/>');\n",
       "        tooltip_span.addClass('ui-button-text');\n",
       "        tooltip_span.html(tooltip);\n",
       "\n",
       "        button.append(icon_img);\n",
       "        button.append(tooltip_span);\n",
       "\n",
       "        nav_element.append(button);\n",
       "    }\n",
       "\n",
       "    var fmt_picker_span = $('<span/>');\n",
       "\n",
       "    var fmt_picker = $('<select/>');\n",
       "    fmt_picker.addClass('mpl-toolbar-option ui-widget ui-widget-content');\n",
       "    fmt_picker_span.append(fmt_picker);\n",
       "    nav_element.append(fmt_picker_span);\n",
       "    this.format_dropdown = fmt_picker[0];\n",
       "\n",
       "    for (var ind in mpl.extensions) {\n",
       "        var fmt = mpl.extensions[ind];\n",
       "        var option = $(\n",
       "            '<option/>', {selected: fmt === mpl.default_extension}).html(fmt);\n",
       "        fmt_picker.append(option)\n",
       "    }\n",
       "\n",
       "    // Add hover states to the ui-buttons\n",
       "    $( \".ui-button\" ).hover(\n",
       "        function() { $(this).addClass(\"ui-state-hover\");},\n",
       "        function() { $(this).removeClass(\"ui-state-hover\");}\n",
       "    );\n",
       "\n",
       "    var status_bar = $('<span class=\"mpl-message\"/>');\n",
       "    nav_element.append(status_bar);\n",
       "    this.message = status_bar[0];\n",
       "}\n",
       "\n",
       "mpl.figure.prototype.request_resize = function(x_pixels, y_pixels) {\n",
       "    // Request matplotlib to resize the figure. Matplotlib will then trigger a resize in the client,\n",
       "    // which will in turn request a refresh of the image.\n",
       "    this.send_message('resize', {'width': x_pixels, 'height': y_pixels});\n",
       "}\n",
       "\n",
       "mpl.figure.prototype.send_message = function(type, properties) {\n",
       "    properties['type'] = type;\n",
       "    properties['figure_id'] = this.id;\n",
       "    this.ws.send(JSON.stringify(properties));\n",
       "}\n",
       "\n",
       "mpl.figure.prototype.send_draw_message = function() {\n",
       "    if (!this.waiting) {\n",
       "        this.waiting = true;\n",
       "        this.ws.send(JSON.stringify({type: \"draw\", figure_id: this.id}));\n",
       "    }\n",
       "}\n",
       "\n",
       "\n",
       "mpl.figure.prototype.handle_save = function(fig, msg) {\n",
       "    var format_dropdown = fig.format_dropdown;\n",
       "    var format = format_dropdown.options[format_dropdown.selectedIndex].value;\n",
       "    fig.ondownload(fig, format);\n",
       "}\n",
       "\n",
       "\n",
       "mpl.figure.prototype.handle_resize = function(fig, msg) {\n",
       "    var size = msg['size'];\n",
       "    if (size[0] != fig.canvas.width || size[1] != fig.canvas.height) {\n",
       "        fig._resize_canvas(size[0], size[1]);\n",
       "        fig.send_message(\"refresh\", {});\n",
       "    };\n",
       "}\n",
       "\n",
       "mpl.figure.prototype.handle_rubberband = function(fig, msg) {\n",
       "    var x0 = msg['x0'] / mpl.ratio;\n",
       "    var y0 = (fig.canvas.height - msg['y0']) / mpl.ratio;\n",
       "    var x1 = msg['x1'] / mpl.ratio;\n",
       "    var y1 = (fig.canvas.height - msg['y1']) / mpl.ratio;\n",
       "    x0 = Math.floor(x0) + 0.5;\n",
       "    y0 = Math.floor(y0) + 0.5;\n",
       "    x1 = Math.floor(x1) + 0.5;\n",
       "    y1 = Math.floor(y1) + 0.5;\n",
       "    var min_x = Math.min(x0, x1);\n",
       "    var min_y = Math.min(y0, y1);\n",
       "    var width = Math.abs(x1 - x0);\n",
       "    var height = Math.abs(y1 - y0);\n",
       "\n",
       "    fig.rubberband_context.clearRect(\n",
       "        0, 0, fig.canvas.width, fig.canvas.height);\n",
       "\n",
       "    fig.rubberband_context.strokeRect(min_x, min_y, width, height);\n",
       "}\n",
       "\n",
       "mpl.figure.prototype.handle_figure_label = function(fig, msg) {\n",
       "    // Updates the figure title.\n",
       "    fig.header.textContent = msg['label'];\n",
       "}\n",
       "\n",
       "mpl.figure.prototype.handle_cursor = function(fig, msg) {\n",
       "    var cursor = msg['cursor'];\n",
       "    switch(cursor)\n",
       "    {\n",
       "    case 0:\n",
       "        cursor = 'pointer';\n",
       "        break;\n",
       "    case 1:\n",
       "        cursor = 'default';\n",
       "        break;\n",
       "    case 2:\n",
       "        cursor = 'crosshair';\n",
       "        break;\n",
       "    case 3:\n",
       "        cursor = 'move';\n",
       "        break;\n",
       "    }\n",
       "    fig.rubberband_canvas.style.cursor = cursor;\n",
       "}\n",
       "\n",
       "mpl.figure.prototype.handle_message = function(fig, msg) {\n",
       "    fig.message.textContent = msg['message'];\n",
       "}\n",
       "\n",
       "mpl.figure.prototype.handle_draw = function(fig, msg) {\n",
       "    // Request the server to send over a new figure.\n",
       "    fig.send_draw_message();\n",
       "}\n",
       "\n",
       "mpl.figure.prototype.handle_image_mode = function(fig, msg) {\n",
       "    fig.image_mode = msg['mode'];\n",
       "}\n",
       "\n",
       "mpl.figure.prototype.updated_canvas_event = function() {\n",
       "    // Called whenever the canvas gets updated.\n",
       "    this.send_message(\"ack\", {});\n",
       "}\n",
       "\n",
       "// A function to construct a web socket function for onmessage handling.\n",
       "// Called in the figure constructor.\n",
       "mpl.figure.prototype._make_on_message_function = function(fig) {\n",
       "    return function socket_on_message(evt) {\n",
       "        if (evt.data instanceof Blob) {\n",
       "            /* FIXME: We get \"Resource interpreted as Image but\n",
       "             * transferred with MIME type text/plain:\" errors on\n",
       "             * Chrome.  But how to set the MIME type?  It doesn't seem\n",
       "             * to be part of the websocket stream */\n",
       "            evt.data.type = \"image/png\";\n",
       "\n",
       "            /* Free the memory for the previous frames */\n",
       "            if (fig.imageObj.src) {\n",
       "                (window.URL || window.webkitURL).revokeObjectURL(\n",
       "                    fig.imageObj.src);\n",
       "            }\n",
       "\n",
       "            fig.imageObj.src = (window.URL || window.webkitURL).createObjectURL(\n",
       "                evt.data);\n",
       "            fig.updated_canvas_event();\n",
       "            fig.waiting = false;\n",
       "            return;\n",
       "        }\n",
       "        else if (typeof evt.data === 'string' && evt.data.slice(0, 21) == \"data:image/png;base64\") {\n",
       "            fig.imageObj.src = evt.data;\n",
       "            fig.updated_canvas_event();\n",
       "            fig.waiting = false;\n",
       "            return;\n",
       "        }\n",
       "\n",
       "        var msg = JSON.parse(evt.data);\n",
       "        var msg_type = msg['type'];\n",
       "\n",
       "        // Call the  \"handle_{type}\" callback, which takes\n",
       "        // the figure and JSON message as its only arguments.\n",
       "        try {\n",
       "            var callback = fig[\"handle_\" + msg_type];\n",
       "        } catch (e) {\n",
       "            console.log(\"No handler for the '\" + msg_type + \"' message type: \", msg);\n",
       "            return;\n",
       "        }\n",
       "\n",
       "        if (callback) {\n",
       "            try {\n",
       "                // console.log(\"Handling '\" + msg_type + \"' message: \", msg);\n",
       "                callback(fig, msg);\n",
       "            } catch (e) {\n",
       "                console.log(\"Exception inside the 'handler_\" + msg_type + \"' callback:\", e, e.stack, msg);\n",
       "            }\n",
       "        }\n",
       "    };\n",
       "}\n",
       "\n",
       "// from http://stackoverflow.com/questions/1114465/getting-mouse-location-in-canvas\n",
       "mpl.findpos = function(e) {\n",
       "    //this section is from http://www.quirksmode.org/js/events_properties.html\n",
       "    var targ;\n",
       "    if (!e)\n",
       "        e = window.event;\n",
       "    if (e.target)\n",
       "        targ = e.target;\n",
       "    else if (e.srcElement)\n",
       "        targ = e.srcElement;\n",
       "    if (targ.nodeType == 3) // defeat Safari bug\n",
       "        targ = targ.parentNode;\n",
       "\n",
       "    // jQuery normalizes the pageX and pageY\n",
       "    // pageX,Y are the mouse positions relative to the document\n",
       "    // offset() returns the position of the element relative to the document\n",
       "    var x = e.pageX - $(targ).offset().left;\n",
       "    var y = e.pageY - $(targ).offset().top;\n",
       "\n",
       "    return {\"x\": x, \"y\": y};\n",
       "};\n",
       "\n",
       "/*\n",
       " * return a copy of an object with only non-object keys\n",
       " * we need this to avoid circular references\n",
       " * http://stackoverflow.com/a/24161582/3208463\n",
       " */\n",
       "function simpleKeys (original) {\n",
       "  return Object.keys(original).reduce(function (obj, key) {\n",
       "    if (typeof original[key] !== 'object')\n",
       "        obj[key] = original[key]\n",
       "    return obj;\n",
       "  }, {});\n",
       "}\n",
       "\n",
       "mpl.figure.prototype.mouse_event = function(event, name) {\n",
       "    var canvas_pos = mpl.findpos(event)\n",
       "\n",
       "    if (name === 'button_press')\n",
       "    {\n",
       "        this.canvas.focus();\n",
       "        this.canvas_div.focus();\n",
       "    }\n",
       "\n",
       "    var x = canvas_pos.x * mpl.ratio;\n",
       "    var y = canvas_pos.y * mpl.ratio;\n",
       "\n",
       "    this.send_message(name, {x: x, y: y, button: event.button,\n",
       "                             step: event.step,\n",
       "                             guiEvent: simpleKeys(event)});\n",
       "\n",
       "    /* This prevents the web browser from automatically changing to\n",
       "     * the text insertion cursor when the button is pressed.  We want\n",
       "     * to control all of the cursor setting manually through the\n",
       "     * 'cursor' event from matplotlib */\n",
       "    event.preventDefault();\n",
       "    return false;\n",
       "}\n",
       "\n",
       "mpl.figure.prototype._key_event_extra = function(event, name) {\n",
       "    // Handle any extra behaviour associated with a key event\n",
       "}\n",
       "\n",
       "mpl.figure.prototype.key_event = function(event, name) {\n",
       "\n",
       "    // Prevent repeat events\n",
       "    if (name == 'key_press')\n",
       "    {\n",
       "        if (event.which === this._key)\n",
       "            return;\n",
       "        else\n",
       "            this._key = event.which;\n",
       "    }\n",
       "    if (name == 'key_release')\n",
       "        this._key = null;\n",
       "\n",
       "    var value = '';\n",
       "    if (event.ctrlKey && event.which != 17)\n",
       "        value += \"ctrl+\";\n",
       "    if (event.altKey && event.which != 18)\n",
       "        value += \"alt+\";\n",
       "    if (event.shiftKey && event.which != 16)\n",
       "        value += \"shift+\";\n",
       "\n",
       "    value += 'k';\n",
       "    value += event.which.toString();\n",
       "\n",
       "    this._key_event_extra(event, name);\n",
       "\n",
       "    this.send_message(name, {key: value,\n",
       "                             guiEvent: simpleKeys(event)});\n",
       "    return false;\n",
       "}\n",
       "\n",
       "mpl.figure.prototype.toolbar_button_onclick = function(name) {\n",
       "    if (name == 'download') {\n",
       "        this.handle_save(this, null);\n",
       "    } else {\n",
       "        this.send_message(\"toolbar_button\", {name: name});\n",
       "    }\n",
       "};\n",
       "\n",
       "mpl.figure.prototype.toolbar_button_onmouseover = function(tooltip) {\n",
       "    this.message.textContent = tooltip;\n",
       "};\n",
       "mpl.toolbar_items = [[\"Home\", \"Reset original view\", \"fa fa-home icon-home\", \"home\"], [\"Back\", \"Back to previous view\", \"fa fa-arrow-left icon-arrow-left\", \"back\"], [\"Forward\", \"Forward to next view\", \"fa fa-arrow-right icon-arrow-right\", \"forward\"], [\"\", \"\", \"\", \"\"], [\"Pan\", \"Pan axes with left mouse, zoom with right\", \"fa fa-arrows icon-move\", \"pan\"], [\"Zoom\", \"Zoom to rectangle\", \"fa fa-square-o icon-check-empty\", \"zoom\"], [\"\", \"\", \"\", \"\"], [\"Download\", \"Download plot\", \"fa fa-floppy-o icon-save\", \"download\"]];\n",
       "\n",
       "mpl.extensions = [\"eps\", \"jpeg\", \"pdf\", \"png\", \"ps\", \"raw\", \"svg\", \"tif\"];\n",
       "\n",
       "mpl.default_extension = \"png\";var comm_websocket_adapter = function(comm) {\n",
       "    // Create a \"websocket\"-like object which calls the given IPython comm\n",
       "    // object with the appropriate methods. Currently this is a non binary\n",
       "    // socket, so there is still some room for performance tuning.\n",
       "    var ws = {};\n",
       "\n",
       "    ws.close = function() {\n",
       "        comm.close()\n",
       "    };\n",
       "    ws.send = function(m) {\n",
       "        //console.log('sending', m);\n",
       "        comm.send(m);\n",
       "    };\n",
       "    // Register the callback with on_msg.\n",
       "    comm.on_msg(function(msg) {\n",
       "        //console.log('receiving', msg['content']['data'], msg);\n",
       "        // Pass the mpl event to the overridden (by mpl) onmessage function.\n",
       "        ws.onmessage(msg['content']['data'])\n",
       "    });\n",
       "    return ws;\n",
       "}\n",
       "\n",
       "mpl.mpl_figure_comm = function(comm, msg) {\n",
       "    // This is the function which gets called when the mpl process\n",
       "    // starts-up an IPython Comm through the \"matplotlib\" channel.\n",
       "\n",
       "    var id = msg.content.data.id;\n",
       "    // Get hold of the div created by the display call when the Comm\n",
       "    // socket was opened in Python.\n",
       "    var element = $(\"#\" + id);\n",
       "    var ws_proxy = comm_websocket_adapter(comm)\n",
       "\n",
       "    function ondownload(figure, format) {\n",
       "        window.open(figure.imageObj.src);\n",
       "    }\n",
       "\n",
       "    var fig = new mpl.figure(id, ws_proxy,\n",
       "                           ondownload,\n",
       "                           element.get(0));\n",
       "\n",
       "    // Call onopen now - mpl needs it, as it is assuming we've passed it a real\n",
       "    // web socket which is closed, not our websocket->open comm proxy.\n",
       "    ws_proxy.onopen();\n",
       "\n",
       "    fig.parent_element = element.get(0);\n",
       "    fig.cell_info = mpl.find_output_cell(\"<div id='\" + id + \"'></div>\");\n",
       "    if (!fig.cell_info) {\n",
       "        console.error(\"Failed to find cell for figure\", id, fig);\n",
       "        return;\n",
       "    }\n",
       "\n",
       "    var output_index = fig.cell_info[2]\n",
       "    var cell = fig.cell_info[0];\n",
       "\n",
       "};\n",
       "\n",
       "mpl.figure.prototype.handle_close = function(fig, msg) {\n",
       "    var width = fig.canvas.width/mpl.ratio\n",
       "    fig.root.unbind('remove')\n",
       "\n",
       "    // Update the output cell to use the data from the current canvas.\n",
       "    fig.push_to_output();\n",
       "    var dataURL = fig.canvas.toDataURL();\n",
       "    // Re-enable the keyboard manager in IPython - without this line, in FF,\n",
       "    // the notebook keyboard shortcuts fail.\n",
       "    IPython.keyboard_manager.enable()\n",
       "    $(fig.parent_element).html('<img src=\"' + dataURL + '\" width=\"' + width + '\">');\n",
       "    fig.close_ws(fig, msg);\n",
       "}\n",
       "\n",
       "mpl.figure.prototype.close_ws = function(fig, msg){\n",
       "    fig.send_message('closing', msg);\n",
       "    // fig.ws.close()\n",
       "}\n",
       "\n",
       "mpl.figure.prototype.push_to_output = function(remove_interactive) {\n",
       "    // Turn the data on the canvas into data in the output cell.\n",
       "    var width = this.canvas.width/mpl.ratio\n",
       "    var dataURL = this.canvas.toDataURL();\n",
       "    this.cell_info[1]['text/html'] = '<img src=\"' + dataURL + '\" width=\"' + width + '\">';\n",
       "}\n",
       "\n",
       "mpl.figure.prototype.updated_canvas_event = function() {\n",
       "    // Tell IPython that the notebook contents must change.\n",
       "    IPython.notebook.set_dirty(true);\n",
       "    this.send_message(\"ack\", {});\n",
       "    var fig = this;\n",
       "    // Wait a second, then push the new image to the DOM so\n",
       "    // that it is saved nicely (might be nice to debounce this).\n",
       "    setTimeout(function () { fig.push_to_output() }, 1000);\n",
       "}\n",
       "\n",
       "mpl.figure.prototype._init_toolbar = function() {\n",
       "    var fig = this;\n",
       "\n",
       "    var nav_element = $('<div/>')\n",
       "    nav_element.attr('style', 'width: 100%');\n",
       "    this.root.append(nav_element);\n",
       "\n",
       "    // Define a callback function for later on.\n",
       "    function toolbar_event(event) {\n",
       "        return fig.toolbar_button_onclick(event['data']);\n",
       "    }\n",
       "    function toolbar_mouse_event(event) {\n",
       "        return fig.toolbar_button_onmouseover(event['data']);\n",
       "    }\n",
       "\n",
       "    for(var toolbar_ind in mpl.toolbar_items){\n",
       "        var name = mpl.toolbar_items[toolbar_ind][0];\n",
       "        var tooltip = mpl.toolbar_items[toolbar_ind][1];\n",
       "        var image = mpl.toolbar_items[toolbar_ind][2];\n",
       "        var method_name = mpl.toolbar_items[toolbar_ind][3];\n",
       "\n",
       "        if (!name) { continue; };\n",
       "\n",
       "        var button = $('<button class=\"btn btn-default\" href=\"#\" title=\"' + name + '\"><i class=\"fa ' + image + ' fa-lg\"></i></button>');\n",
       "        button.click(method_name, toolbar_event);\n",
       "        button.mouseover(tooltip, toolbar_mouse_event);\n",
       "        nav_element.append(button);\n",
       "    }\n",
       "\n",
       "    // Add the status bar.\n",
       "    var status_bar = $('<span class=\"mpl-message\" style=\"text-align:right; float: right;\"/>');\n",
       "    nav_element.append(status_bar);\n",
       "    this.message = status_bar[0];\n",
       "\n",
       "    // Add the close button to the window.\n",
       "    var buttongrp = $('<div class=\"btn-group inline pull-right\"></div>');\n",
       "    var button = $('<button class=\"btn btn-mini btn-primary\" href=\"#\" title=\"Stop Interaction\"><i class=\"fa fa-power-off icon-remove icon-large\"></i></button>');\n",
       "    button.click(function (evt) { fig.handle_close(fig, {}); } );\n",
       "    button.mouseover('Stop Interaction', toolbar_mouse_event);\n",
       "    buttongrp.append(button);\n",
       "    var titlebar = this.root.find($('.ui-dialog-titlebar'));\n",
       "    titlebar.prepend(buttongrp);\n",
       "}\n",
       "\n",
       "mpl.figure.prototype._root_extra_style = function(el){\n",
       "    var fig = this\n",
       "    el.on(\"remove\", function(){\n",
       "\tfig.close_ws(fig, {});\n",
       "    });\n",
       "}\n",
       "\n",
       "mpl.figure.prototype._canvas_extra_style = function(el){\n",
       "    // this is important to make the div 'focusable\n",
       "    el.attr('tabindex', 0)\n",
       "    // reach out to IPython and tell the keyboard manager to turn it's self\n",
       "    // off when our div gets focus\n",
       "\n",
       "    // location in version 3\n",
       "    if (IPython.notebook.keyboard_manager) {\n",
       "        IPython.notebook.keyboard_manager.register_events(el);\n",
       "    }\n",
       "    else {\n",
       "        // location in version 2\n",
       "        IPython.keyboard_manager.register_events(el);\n",
       "    }\n",
       "\n",
       "}\n",
       "\n",
       "mpl.figure.prototype._key_event_extra = function(event, name) {\n",
       "    var manager = IPython.notebook.keyboard_manager;\n",
       "    if (!manager)\n",
       "        manager = IPython.keyboard_manager;\n",
       "\n",
       "    // Check for shift+enter\n",
       "    if (event.shiftKey && event.which == 13) {\n",
       "        this.canvas_div.blur();\n",
       "        event.shiftKey = false;\n",
       "        // Send a \"J\" for go to next cell\n",
       "        event.which = 74;\n",
       "        event.keyCode = 74;\n",
       "        manager.command_mode();\n",
       "        manager.handle_keydown(event);\n",
       "    }\n",
       "}\n",
       "\n",
       "mpl.figure.prototype.handle_save = function(fig, msg) {\n",
       "    fig.ondownload(fig, null);\n",
       "}\n",
       "\n",
       "\n",
       "mpl.find_output_cell = function(html_output) {\n",
       "    // Return the cell and output element which can be found *uniquely* in the notebook.\n",
       "    // Note - this is a bit hacky, but it is done because the \"notebook_saving.Notebook\"\n",
       "    // IPython event is triggered only after the cells have been serialised, which for\n",
       "    // our purposes (turning an active figure into a static one), is too late.\n",
       "    var cells = IPython.notebook.get_cells();\n",
       "    var ncells = cells.length;\n",
       "    for (var i=0; i<ncells; i++) {\n",
       "        var cell = cells[i];\n",
       "        if (cell.cell_type === 'code'){\n",
       "            for (var j=0; j<cell.output_area.outputs.length; j++) {\n",
       "                var data = cell.output_area.outputs[j];\n",
       "                if (data.data) {\n",
       "                    // IPython >= 3 moved mimebundle to data attribute of output\n",
       "                    data = data.data;\n",
       "                }\n",
       "                if (data['text/html'] == html_output) {\n",
       "                    return [cell, data, j];\n",
       "                }\n",
       "            }\n",
       "        }\n",
       "    }\n",
       "}\n",
       "\n",
       "// Register the function which deals with the matplotlib target/channel.\n",
       "// The kernel may be null if the page has been refreshed.\n",
       "if (IPython.notebook.kernel != null) {\n",
       "    IPython.notebook.kernel.comm_manager.register_target('matplotlib', mpl.mpl_figure_comm);\n",
       "}\n"
      ],
      "text/plain": [
       "<IPython.core.display.Javascript object>"
      ]
     },
     "metadata": {},
     "output_type": "display_data"
    },
    {
     "data": {
      "text/html": [
       "<img src=\"data:image/png;base64,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\" width=\"640\">"
      ],
      "text/plain": [
       "<IPython.core.display.HTML object>"
      ]
     },
     "metadata": {},
     "output_type": "display_data"
    },
    {
     "data": {
      "text/plain": [
       "(24, 28)"
      ]
     },
     "execution_count": 24,
     "metadata": {},
     "output_type": "execute_result"
    }
   ],
   "source": [
    "for carID in idmDataCarsHomoNoReact.keys():\n",
    "    speedData = np.array(idmDataCarsHomoNoReact[carID]).mean(axis=0)\n",
    "    speedData *= 3.6\n",
    "    plt.plot(speedData, alpha=0.5, color='green')\n",
    "\n",
    "for carID in idmDataCars.keys():\n",
    "    speedData = np.array(idmDataCars[carID]).mean(axis=0)\n",
    "    speedData *= 3.6\n",
    "    plt.plot(speedData, color='red', alpha=0.5)\n",
    "\n",
    "plt.ylim([24, 28])"
   ]
  },
  {
   "cell_type": "markdown",
   "metadata": {},
   "source": [
    "# Homogeneous - Only Local view 15m"
   ]
  },
  {
   "cell_type": "code",
   "execution_count": 6,
   "metadata": {},
   "outputs": [],
   "source": [
    "homoLocalView15mData = loadPKL(homogeneousOnlyLocalView15mPath)"
   ]
  },
  {
   "cell_type": "code",
   "execution_count": 7,
   "metadata": {},
   "outputs": [
    {
     "data": {
      "text/plain": [
       "2400"
      ]
     },
     "execution_count": 7,
     "metadata": {},
     "output_type": "execute_result"
    }
   ],
   "source": [
    "homoLocalView15mData['max-episode-length']"
   ]
  },
  {
   "cell_type": "code",
   "execution_count": 7,
   "metadata": {},
   "outputs": [
    {
     "name": "stdout",
     "output_type": "stream",
     "text": [
      "2401\n",
      "2401\n",
      "2108\n",
      "2401\n",
      "2401\n",
      "2401\n",
      "355\n",
      "2401\n",
      "2401\n",
      "2401\n",
      "2088\n",
      "59\n",
      "2401\n",
      "2401\n",
      "2401\n",
      "2401\n",
      "33\n",
      "467\n",
      "2401\n",
      "2401\n",
      "2203\n",
      "2401\n",
      "1372\n",
      "2289\n",
      "2401\n",
      "2401\n",
      "342\n",
      "2401\n",
      "97\n",
      "2401\n",
      "2401\n",
      "978\n",
      "2401\n",
      "2401\n",
      "2401\n",
      "2401\n",
      "2401\n",
      "866\n",
      "83\n",
      "535\n",
      "2401\n",
      "2401\n",
      "60\n",
      "144\n",
      "2401\n",
      "789\n",
      "161\n",
      "566\n",
      "2401\n",
      "1663\n",
      "Percentage of full episodes :  57.99999999999999\n"
     ]
    }
   ],
   "source": [
    "agentSpeedEpisodesHomoLV15m = {}\n",
    "agentSpeedEpisodesHomoLV15m['complete'] = {}\n",
    "agentSpeedEpisodesHomoLV15m['uncomplete'] = {}\n",
    "\n",
    "for carID in homoLocalView15mData['data']['0.4_0.4'][0]['speed'].keys():\n",
    "    agentSpeedEpisodesHomoLV15m['complete'][carID] = []\n",
    "    agentSpeedEpisodesHomoLV15m['uncomplete'][carID] = []\n",
    "    \n",
    "totalEpisodes = 0\n",
    "completeCount = 0\n",
    "for episode in homoLocalView15mData['data']['0.4_0.4']:\n",
    "    episodeLen = len(homoLocalView15mData['data']['0.4_0.4'][episode]['speed'][0.0])\n",
    "    print(episodeLen)\n",
    "    if episodeLen-1 == homoLocalView15mData['max-episode-length']:\n",
    "        completeCount += 1\n",
    "        for carID in homoLocalView15mData['data']['0.4_0.4'][episode]['speed']:\n",
    "            agentSpeedEpisodesHomoLV15m['complete'][carID].append(homoLocalView15mData['data']['0.4_0.4'][episode]['speed'][carID])\n",
    "    else:\n",
    "        for carID in homoLocalView15mData['data']['0.4_0.4'][episode]['speed']:\n",
    "            agentSpeedEpisodesHomoLV15m['uncomplete'][carID].append(homoLocalView15mData['data']['0.4_0.4'][episode]['speed'][carID])\n",
    "    \n",
    "    totalEpisodes += 1\n",
    "\n",
    "print(\"Percentage of full episodes : \", completeCount/totalEpisodes * 100.0)\n"
   ]
  },
  {
   "cell_type": "markdown",
   "metadata": {},
   "source": [
    "# Homogeneous - LV 15m + Comm 15m"
   ]
  },
  {
   "cell_type": "code",
   "execution_count": 28,
   "metadata": {},
   "outputs": [],
   "source": [
    "homoLV15mComm15mData = loadPKL(homogeneousLV15Comm15Path)"
   ]
  },
  {
   "cell_type": "code",
   "execution_count": 29,
   "metadata": {},
   "outputs": [
    {
     "data": {
      "text/plain": [
       "dict_keys(['maxSpeed', 'maxViewSpeed', 'plan-acts', 'query-acts', 'max-episode-length', 'data', 'others'])"
      ]
     },
     "execution_count": 29,
     "metadata": {},
     "output_type": "execute_result"
    }
   ],
   "source": [
    "homoLV15mComm15mData.keys()"
   ]
  },
  {
   "cell_type": "code",
   "execution_count": 10,
   "metadata": {},
   "outputs": [
    {
     "name": "stdout",
     "output_type": "stream",
     "text": [
      "Percentage of full episodes :  57.99999999999999\n"
     ]
    }
   ],
   "source": [
    "agentSpeedEpisodesHomoLV15mComm15m = {}\n",
    "agentSpeedEpisodesHomoLV15mComm15m['complete'] = {}\n",
    "agentSpeedEpisodesHomoLV15mComm15m['uncomplete'] = {}\n",
    "\n",
    "for carID in homoLV15mComm15mData['data']['0.4_0.4'][0]['speed'].keys():\n",
    "    agentSpeedEpisodesHomoLV15mComm15m['complete'][carID] = []\n",
    "    agentSpeedEpisodesHomoLV15mComm15m['uncomplete'][carID] = []\n",
    "    \n",
    "totalEpisodes = 0\n",
    "completeCount = 0\n",
    "for episode in homoLV15mComm15mData['data']['0.4_0.4']:\n",
    "    episodeLen = len(homoLV15mComm15mData['data']['0.4_0.4'][episode]['speed'][0.0])\n",
    "    #print(episodeLen)\n",
    "    if episodeLen-1 == homoLV15mComm15mData['max-episode-length']:\n",
    "        completeCount += 1\n",
    "        for carID in homoLV15mComm15mData['data']['0.4_0.4'][episode]['speed']:\n",
    "            agentSpeedEpisodesHomoLV15mComm15m['complete'][carID].append(homoLV15mComm15mData['data']['0.4_0.4'][episode]['speed'][carID])\n",
    "    else:\n",
    "        for carID in homoLV15mComm15mData['data']['0.4_0.4'][episode]['speed']:\n",
    "            agentSpeedEpisodesHomoLV15mComm15m['uncomplete'][carID].append(homoLV15mComm15mData['data']['0.4_0.4'][episode]['speed'][carID])\n",
    "    \n",
    "    totalEpisodes += 1\n",
    "\n",
    "print(\"Percentage of full episodes : \", completeCount/totalEpisodes * 100.0)\n"
   ]
  },
  {
   "cell_type": "markdown",
   "metadata": {},
   "source": [
    "# Plot all"
   ]
  },
  {
   "cell_type": "code",
   "execution_count": 12,
   "metadata": {},
   "outputs": [
    {
     "data": {
      "image/png": "[encoded data removed]",
      "text/plain": [
       "<Figure size 432x288 with 1 Axes>"
      ]
     },
     "metadata": {
      "needs_background": "light"
     },
     "output_type": "display_data"
    },
    {
     "data": {
      "image/png": "[encoded data removed]",
      "text/plain": [
       "<Figure size 432x288 with 1 Axes>"
      ]
     },
     "metadata": {
      "needs_background": "light"
     },
     "output_type": "display_data"
    },
    {
     "data": {
      "image/png": "[encoded data removed]",
      "text/plain": [
       "<Figure size 432x288 with 1 Axes>"
      ]
     },
     "metadata": {
      "needs_background": "light"
     },
     "output_type": "display_data"
    }
   ],
   "source": [
    "for carID in agentSpeedEpisodesHomoLV15mComm15m['complete'].keys():\n",
    "    speedData = np.array(agentSpeedEpisodesHomoLV15mComm15m['complete'][carID]).transpose()\n",
    "    speedData = speedData.mean(axis=1) * 3.6\n",
    "    plt.plot(speedData[0:1200], alpha=.5, color='red')\n",
    "    plt.xlabel('time-steps')\n",
    "    plt.ylabel('speed (km/hr)')\n",
    "plt.show()\n",
    "\n",
    "for carID in agentSpeedEpisodesHomoLV15m['complete'].keys():\n",
    "    speedData = np.array(agentSpeedEpisodesHomoLV15m['complete'][carID]).transpose()\n",
    "    speedData = speedData.mean(axis=1) * 3.6\n",
    "    plt.plot(speedData[0:1200], alpha=.5, color='blue')\n",
    "    plt.xlabel('time-steps')\n",
    "    plt.ylabel('speed (km/hr)')\n",
    "plt.show()\n",
    "\n",
    "\n",
    "for carID in idmDataCars.keys():\n",
    "    speedData = np.array(idmDataCars[carID]).transpose()\n",
    "    speedData = speedData.mean(axis=1)\n",
    "    plt.plot(speedData * 3.6, color='green', alpha=0.3)\n",
    "    plt.xlabel('time-steps')\n",
    "    plt.ylabel('speed (km/hr)')\n",
    "    #plt.legend()\n",
    "plt.show()"
   ]
  },
  {
   "cell_type": "markdown",
   "metadata": {},
   "source": [
    "# Querying"
   ]
  },
  {
   "cell_type": "code",
   "execution_count": 61,
   "metadata": {},
   "outputs": [],
   "source": [
    "agentQueryEpisodesHomoLV15mComm15m = {}\n",
    "agentQueryEpisodesHomoLV15mComm15m['complete'] = []\n",
    "agentQueryEpisodesHomoLV15mComm15m['uncomplete'] = []\n",
    "    \n",
    "\n",
    "totalEpisodes = 0\n",
    "completeCount = 0\n",
    "for episode in homoLV15mComm15mData['data']['0.4_0.4']:\n",
    "    episodeLen = len(homoLV15mComm15mData['data']['0.4_0.4'][episode]['speed'][0.0])\n",
    "    #print(episodeLen)\n",
    "    if episodeLen-1 == homoLV15mComm15mData['max-episode-length']:\n",
    "        completeCount += 1\n",
    "        agentQueryEpisodesHomoLV15mComm15m['complete'].append(homoLV15mComm15mData['data']['0.4_0.4'][episode]['actions'])\n",
    "    else:\n",
    "        agentQueryEpisodesHomoLV15mComm15m['uncomplete'].append(homoLV15mComm15mData['data']['0.4_0.4'][episode]['actions'][1])\n",
    "    \n",
    "    totalEpisodes += 1\n"
   ]
  },
  {
   "cell_type": "code",
   "execution_count": 62,
   "metadata": {},
   "outputs": [],
   "source": [
    "# Encode actions and separate plan and query\n",
    "agentPlanHomoLV15mComm15 = []\n",
    "agentQueryHomoLV15mComm15 = []\n",
    "\n",
    "for data in agentQueryEpisodesHomoLV15mComm15m['complete']:\n",
    "    plantmp = []\n",
    "    querytmp = []\n",
    "    for step in data:\n",
    "        plantmp.append(step[0])\n",
    "        querytmp.append(step[1])\n",
    "    agentPlanHomoLV15mComm15.append(plantmp)\n",
    "    agentQueryHomoLV15mComm15.append(querytmp)\n",
    "\n",
    "planEncode = {}\n",
    "planEncode['acc'] = 0\n",
    "planEncode['dec'] = 1\n",
    "planEncode['do-nothing'] = 2\n",
    "planEncode['lane-change'] = 3\n",
    "\n",
    "queryEncode = {}\n",
    "queryEncode['null'] = 0\n",
    "queryEncode['reg_0'] = 1\n",
    "queryEncode['reg_1'] = 2\n",
    "\n",
    "for i, data in enumerate(agentPlanHomoLV15mComm15):\n",
    "    for j, step in enumerate(agentPlanHomoLV15mComm15[i]):\n",
    "        agentPlanHomoLV15mComm15[i][j] = planEncode[agentPlanHomoLV15mComm15[i][j]]\n",
    "\n",
    "for i, data in enumerate(agentQueryHomoLV15mComm15):\n",
    "    for j, step in enumerate(agentQueryHomoLV15mComm15[i]):\n",
    "        agentQueryHomoLV15mComm15[i][j] = queryEncode[agentQueryHomoLV15mComm15[i][j]]\n"
   ]
  },
  {
   "cell_type": "code",
   "execution_count": 63,
   "metadata": {},
   "outputs": [
    {
     "data": {
      "text/plain": [
       "<matplotlib.legend.Legend at 0x7efe88fe5be0>"
      ]
     },
     "execution_count": 63,
     "metadata": {},
     "output_type": "execute_result"
    },
    {
     "data": {
      "image/png": "[encoded data removed]",
      "text/plain": [
       "<Figure size 432x288 with 1 Axes>"
      ]
     },
     "metadata": {
      "needs_background": "light"
     },
     "output_type": "display_data"
    }
   ],
   "source": [
    "'''\n",
    "for p in agentQueryHomoLV15mComm15:\n",
    "    plt.scatter(np.arange(0, len(p)), p, color='red')\n",
    "    plt.yticks(np.arange(0, len(queryEncode)), queryEncode.keys())\n",
    "    break\n",
    "'''\n",
    "plt.scatter(np.arange(0, len(agentQueryHomoLV15mComm15[3])), agentQueryHomoLV15mComm15[3], color='red', label='local view 15m + comm 15m')\n",
    "plt.yticks(np.arange(0, len(queryEncode)), queryEncode.keys())\n",
    "plt.legend()"
   ]
  },
  {
   "cell_type": "code",
   "execution_count": 64,
   "metadata": {},
   "outputs": [
    {
     "data": {
      "text/plain": [
       "([<matplotlib.axis.YTick at 0x7efe87cf3f28>,\n",
       "  <matplotlib.axis.YTick at 0x7efe87cf3860>,\n",
       "  <matplotlib.axis.YTick at 0x7efe87cdb320>,\n",
       "  <matplotlib.axis.YTick at 0x7efe884fc2e8>],\n",
       " <a list of 4 Text yticklabel objects>)"
      ]
     },
     "execution_count": 64,
     "metadata": {},
     "output_type": "execute_result"
    },
    {
     "data": {
      "image/png": "[encoded data removed]",
      "text/plain": [
       "<Figure size 432x288 with 1 Axes>"
      ]
     },
     "metadata": {
      "needs_background": "light"
     },
     "output_type": "display_data"
    }
   ],
   "source": [
    "'''\n",
    "for p in agentPlanHomoLV15mComm15:\n",
    "    plt.scatter(np.arange(0, len(p)), p, color='red')\n",
    "    plt.yticks(np.arange(0, len(planEncode)), planEncode.keys())\n",
    "    break\n",
    "'''\n",
    "plt.scatter(np.arange(0, len(agentPlanHomoLV15mComm15[3])), agentPlanHomoLV15mComm15[3], color='red')\n",
    "plt.yticks(np.arange(0, len(planEncode)), planEncode.keys())"
   ]
  },
  {
   "cell_type": "markdown",
   "metadata": {},
   "source": [
    "# Local view actions"
   ]
  },
  {
   "cell_type": "code",
   "execution_count": 65,
   "metadata": {},
   "outputs": [],
   "source": [
    "agentQueryEpisodesHomoLocalView15m = {}\n",
    "agentQueryEpisodesHomoLocalView15m['complete'] = []\n",
    "agentQueryEpisodesHomoLocalView15m['uncomplete'] = []\n",
    "    \n",
    "\n",
    "totalEpisodes = 0\n",
    "completeCount = 0\n",
    "for episode in homoLocalView15mData['data']['0.4_0.4']:\n",
    "    episodeLen = len(homoLocalView15mData['data']['0.4_0.4'][episode]['speed'][0.0])\n",
    "    #print(episodeLen)\n",
    "    if episodeLen-1 == homoLocalView15mData['max-episode-length']:\n",
    "        completeCount += 1\n",
    "        agentQueryEpisodesHomoLocalView15m['complete'].append(homoLocalView15mData['data']['0.4_0.4'][episode]['actions'])\n",
    "    else:\n",
    "        agentQueryEpisodesHomoLocalView15m['uncomplete'].append(homoLocalView15mData['data']['0.4_0.4'][episode]['actions'][1])\n",
    "    \n",
    "    totalEpisodes += 1\n"
   ]
  },
  {
   "cell_type": "code",
   "execution_count": 66,
   "metadata": {},
   "outputs": [],
   "source": [
    "agentPlanHomoLocalView15m = []\n",
    "\n",
    "for data in agentQueryEpisodesHomoLocalView15m['complete']:\n",
    "    plantmp = []\n",
    "    for step in data:\n",
    "        plantmp.append(step[0])\n",
    "    agentPlanHomoLocalView15m.append(plantmp)\n",
    "\n",
    "for i, data in enumerate(agentPlanHomoLocalView15m):\n",
    "    for j, step in enumerate(agentPlanHomoLocalView15m[i]):\n",
    "        agentPlanHomoLocalView15m[i][j] = planEncode[agentPlanHomoLocalView15m[i][j]]"
   ]
  },
  {
   "cell_type": "code",
   "execution_count": 67,
   "metadata": {},
   "outputs": [
    {
     "data": {
      "text/plain": [
       "<matplotlib.legend.Legend at 0x7efe88c7d748>"
      ]
     },
     "execution_count": 67,
     "metadata": {},
     "output_type": "execute_result"
    },
    {
     "data": {
      "image/png": "[encoded data removed]",
      "text/plain": [
       "<Figure size 432x288 with 1 Axes>"
      ]
     },
     "metadata": {
      "needs_background": "light"
     },
     "output_type": "display_data"
    }
   ],
   "source": [
    "#plt.scatter(np.arange(0, len(agentPlanHomoLocalView15m[3])), agentPlanHomoLocalView15m[3], label='local view 15m')\n",
    "plt.scatter(np.arange(0, len(agentPlanHomoLV15mComm15[2])), agentPlanHomoLV15mComm15[2], label='local view 15m + comm 15m')\n",
    "plt.yticks(np.arange(0, len(planEncode)), planEncode.keys())\n",
    "plt.xlabel('time steps')\n",
    "plt.legend()"
   ]
  },
  {
   "cell_type": "markdown",
   "metadata": {},
   "source": [
    "# analyze agent speed initial for Local View and LV + Comm"
   ]
  },
  {
   "cell_type": "code",
   "execution_count": 20,
   "metadata": {},
   "outputs": [
    {
     "name": "stdout",
     "output_type": "stream",
     "text": [
      "(29, 2401)\n"
     ]
    }
   ],
   "source": [
    "lvSpeedOfAgent = []\n",
    "for episode in homoLocalView15mData['data']['0.4_0.4'].keys():\n",
    "    agentCarID = homoLocalView15mData['data']['0.4_0.4'][episode]['agentCarID']\n",
    "    epLen = len(homoLocalView15mData['data']['0.4_0.4'][episode]['speed'][agentCarID])\n",
    "    \n",
    "    if epLen == (homoLocalView15mData['max-episode-length'] + 1):\n",
    "        agentCarID = homoLocalView15mData['data']['0.4_0.4'][episode]['agentCarID']\n",
    "        speedData = homoLocalView15mData['data']['0.4_0.4'][episode]['speed'][agentCarID]\n",
    "        #print(speedData)\n",
    "        lvSpeedOfAgent.append(speedData)\n",
    "\n",
    "lvSpeedOfAgent = np.array(lvSpeedOfAgent)\n",
    "print(lvSpeedOfAgent.shape)"
   ]
  },
  {
   "cell_type": "code",
   "execution_count": 21,
   "metadata": {},
   "outputs": [
    {
     "data": {
      "text/plain": [
       "(2401,)"
      ]
     },
     "execution_count": 21,
     "metadata": {},
     "output_type": "execute_result"
    }
   ],
   "source": [
    "lvSpeedOfAgent = lvSpeedOfAgent.mean(axis=0)\n",
    "lvSpeedOfAgent *= 3.6\n",
    "lvSpeedOfAgent.shape"
   ]
  },
  {
   "cell_type": "code",
   "execution_count": 22,
   "metadata": {},
   "outputs": [
    {
     "name": "stdout",
     "output_type": "stream",
     "text": [
      "(29, 2401)\n"
     ]
    }
   ],
   "source": [
    "lvCommSpeedOfAgent = []\n",
    "for episode in homoLV15mComm15mData['data']['0.4_0.4'].keys():\n",
    "    agentCarID = homoLV15mComm15mData['data']['0.4_0.4'][episode]['agentCarID']\n",
    "    epLen = len(homoLV15mComm15mData['data']['0.4_0.4'][episode]['speed'][agentCarID])\n",
    "    \n",
    "    if epLen == (homoLV15mComm15mData['max-episode-length'] + 1):\n",
    "        agentCarID = homoLV15mComm15mData['data']['0.4_0.4'][episode]['agentCarID']\n",
    "        speedData = homoLV15mComm15mData['data']['0.4_0.4'][episode]['speed'][agentCarID]\n",
    "        lvCommSpeedOfAgent.append(speedData)\n",
    "    \n",
    "lvCommSpeedOfAgent = np.array(lvCommSpeedOfAgent)\n",
    "print(lvCommSpeedOfAgent.shape)"
   ]
  },
  {
   "cell_type": "code",
   "execution_count": 23,
   "metadata": {},
   "outputs": [
    {
     "name": "stdout",
     "output_type": "stream",
     "text": [
      "(2401,)\n"
     ]
    }
   ],
   "source": [
    "lvCommSpeedOfAgent = lvCommSpeedOfAgent.mean(axis=0)\n",
    "lvCommSpeedOfAgent *= 3.6\n",
    "print(lvCommSpeedOfAgent.shape)"
   ]
  },
  {
   "cell_type": "code",
   "execution_count": 24,
   "metadata": {},
   "outputs": [
    {
     "data": {
      "text/plain": [
       "<matplotlib.legend.Legend at 0x7f73e6701978>"
      ]
     },
     "execution_count": 24,
     "metadata": {},
     "output_type": "execute_result"
    },
    {
     "data": {
      "image/png": "[encoded data removed]",
      "text/plain": [
       "<Figure size 432x288 with 1 Axes>"
      ]
     },
     "metadata": {
      "needs_background": "light"
     },
     "output_type": "display_data"
    }
   ],
   "source": [
    "plt.plot(lvSpeedOfAgent, label='local view 15m')\n",
    "plt.plot(lvCommSpeedOfAgent, label='local view 15m + comm 15m')\n",
    "plt.xlabel('time steps')\n",
    "plt.ylabel('agent speed (km/hr)')\n",
    "plt.legend()"
   ]
  },
  {
   "cell_type": "markdown",
   "metadata": {},
   "source": [
    "# Cars position graph"
   ]
  },
  {
   "cell_type": "code",
   "execution_count": 25,
   "metadata": {},
   "outputs": [],
   "source": [
    "allCarsPos = {}\n",
    "allCarsPos['complete'] = []\n",
    "allCarsPos['uncomplete'] = []\n",
    "\n",
    "carIDs = homoLocalView15mData['data']['0.4_0.4'][0]['Pos'][0].keys()\n",
    "#print(carIDs)\n",
    "\n",
    "for episode in homoLocalView15mData['data']['0.4_0.4'].keys():\n",
    "    posVector = homoLocalView15mData['data']['0.4_0.4'][episode]['Pos']\n",
    "    epLen = len(posVector)\n",
    "    #print(epLen)\n",
    "    if epLen-1 == homoLocalView15mData['max-episode-length']:\n",
    "        \n",
    "        tmpDict= {}\n",
    "        for carID in carIDs:\n",
    "            tmpDict[carID] = []\n",
    "        \n",
    "        for step in posVector:\n",
    "            for car in step.keys():\n",
    "                tmpDict[car].append(step[car])\n",
    "        \n",
    "        allCarsPos['complete'].append(tmpDict.copy())"
   ]
  },
  {
   "cell_type": "code",
   "execution_count": 27,
   "metadata": {},
   "outputs": [
    {
     "data": {
      "image/png": "[encoded data removed]",
      "text/plain": [
       "<Figure size 432x288 with 1 Axes>"
      ]
     },
     "metadata": {
      "needs_background": "light"
     },
     "output_type": "display_data"
    }
   ],
   "source": [
    "for episode in range(0, len(allCarsPos['complete'])):\n",
    "    for carID in allCarsPos['complete'][episode].keys():\n",
    "        plt.plot(allCarsPos['complete'][episode][carID])\n",
    "    plt.show()\n",
    "    break"
   ]
  },
  {
   "cell_type": "code",
   "execution_count": 9,
   "metadata": {},
   "outputs": [],
   "source": [
    "allCarsPosComm15m = {}\n",
    "allCarsPosComm15m['complete'] = []\n",
    "allCarsPosComm15m['uncomplete'] = []\n",
    "\n",
    "carIDs = homoLV15mComm15mData['data']['0.4_0.4'][0]['Pos'][0].keys()\n",
    "#print(carIDs)\n",
    "\n",
    "for episode in homoLV15mComm15mData['data']['0.4_0.4'].keys():\n",
    "    posVector = homoLV15mComm15mData['data']['0.4_0.4'][episode]['Pos']\n",
    "    epLen = len(posVector)\n",
    "    #print(epLen)\n",
    "    if epLen-1 == homoLV15mComm15mData['max-episode-length']:\n",
    "        \n",
    "        tmpDict= {}\n",
    "        for carID in carIDs:\n",
    "            tmpDict[carID] = []\n",
    "        \n",
    "        for step in posVector:\n",
    "            for car in step.keys():\n",
    "                tmpDict[car].append(step[car])\n",
    "        \n",
    "        allCarsPosComm15m['complete'].append(tmpDict.copy())"
   ]
  },
  {
   "cell_type": "code",
   "execution_count": 12,
   "metadata": {},
   "outputs": [],
   "source": [
    "for episode in range(0, len(allCarsPosComm15m['complete'])):\n",
    "    for carID in allCarsPosComm15m['complete'][episode].keys():\n",
    "        plt.plot(allCarsPosComm15m['complete'][episode][carID])\n",
    "    plt.show()\n",
    "    break"
   ]
  },
  {
   "cell_type": "markdown",
   "metadata": {},
   "source": [
    "# Speed vs position Graph"
   ]
  },
  {
   "cell_type": "code",
   "execution_count": 136,
   "metadata": {},
   "outputs": [],
   "source": [
    "# use previous plots data (just dont't take mean on axis=0)"
   ]
  },
  {
   "cell_type": "code",
   "execution_count": 141,
   "metadata": {},
   "outputs": [
    {
     "name": "stdout",
     "output_type": "stream",
     "text": [
      "(41, 2401)\n",
      "(41, 2401)\n",
      "(26, 2401)\n",
      "(26, 2401)\n"
     ]
    }
   ],
   "source": [
    "print(lvSpeedOfAgent.shape)\n",
    "print(lvPosVector.shape)\n",
    "print(lvCommSpeedOfAgent.shape)\n",
    "print(lvCommPosVector.shape)"
   ]
  },
  {
   "cell_type": "code",
   "execution_count": 164,
   "metadata": {},
   "outputs": [
    {
     "data": {
      "application/javascript": [
       "/* Put everything inside the global mpl namespace */\n",
       "window.mpl = {};\n",
       "\n",
       "\n",
       "mpl.get_websocket_type = function() {\n",
       "    if (typeof(WebSocket) !== 'undefined') {\n",
       "        return WebSocket;\n",
       "    } else if (typeof(MozWebSocket) !== 'undefined') {\n",
       "        return MozWebSocket;\n",
       "    } else {\n",
       "        alert('Your browser does not have WebSocket support.' +\n",
       "              'Please try Chrome, Safari or Firefox ≥ 6. ' +\n",
       "              'Firefox 4 and 5 are also supported but you ' +\n",
       "              'have to enable WebSockets in about:config.');\n",
       "    };\n",
       "}\n",
       "\n",
       "mpl.figure = function(figure_id, websocket, ondownload, parent_element) {\n",
       "    this.id = figure_id;\n",
       "\n",
       "    this.ws = websocket;\n",
       "\n",
       "    this.supports_binary = (this.ws.binaryType != undefined);\n",
       "\n",
       "    if (!this.supports_binary) {\n",
       "        var warnings = document.getElementById(\"mpl-warnings\");\n",
       "        if (warnings) {\n",
       "            warnings.style.display = 'block';\n",
       "            warnings.textContent = (\n",
       "                \"This browser does not support binary websocket messages. \" +\n",
       "                    \"Performance may be slow.\");\n",
       "        }\n",
       "    }\n",
       "\n",
       "    this.imageObj = new Image();\n",
       "\n",
       "    this.context = undefined;\n",
       "    this.message = undefined;\n",
       "    this.canvas = undefined;\n",
       "    this.rubberband_canvas = undefined;\n",
       "    this.rubberband_context = undefined;\n",
       "    this.format_dropdown = undefined;\n",
       "\n",
       "    this.image_mode = 'full';\n",
       "\n",
       "    this.root = $('<div/>');\n",
       "    this._root_extra_style(this.root)\n",
       "    this.root.attr('style', 'display: inline-block');\n",
       "\n",
       "    $(parent_element).append(this.root);\n",
       "\n",
       "    this._init_header(this);\n",
       "    this._init_canvas(this);\n",
       "    this._init_toolbar(this);\n",
       "\n",
       "    var fig = this;\n",
       "\n",
       "    this.waiting = false;\n",
       "\n",
       "    this.ws.onopen =  function () {\n",
       "            fig.send_message(\"supports_binary\", {value: fig.supports_binary});\n",
       "            fig.send_message(\"send_image_mode\", {});\n",
       "            if (mpl.ratio != 1) {\n",
       "                fig.send_message(\"set_dpi_ratio\", {'dpi_ratio': mpl.ratio});\n",
       "            }\n",
       "            fig.send_message(\"refresh\", {});\n",
       "        }\n",
       "\n",
       "    this.imageObj.onload = function() {\n",
       "            if (fig.image_mode == 'full') {\n",
       "                // Full images could contain transparency (where diff images\n",
       "                // almost always do), so we need to clear the canvas so that\n",
       "                // there is no ghosting.\n",
       "                fig.context.clearRect(0, 0, fig.canvas.width, fig.canvas.height);\n",
       "            }\n",
       "            fig.context.drawImage(fig.imageObj, 0, 0);\n",
       "        };\n",
       "\n",
       "    this.imageObj.onunload = function() {\n",
       "        fig.ws.close();\n",
       "    }\n",
       "\n",
       "    this.ws.onmessage = this._make_on_message_function(this);\n",
       "\n",
       "    this.ondownload = ondownload;\n",
       "}\n",
       "\n",
       "mpl.figure.prototype._init_header = function() {\n",
       "    var titlebar = $(\n",
       "        '<div class=\"ui-dialog-titlebar ui-widget-header ui-corner-all ' +\n",
       "        'ui-helper-clearfix\"/>');\n",
       "    var titletext = $(\n",
       "        '<div class=\"ui-dialog-title\" style=\"width: 100%; ' +\n",
       "        'text-align: center; padding: 3px;\"/>');\n",
       "    titlebar.append(titletext)\n",
       "    this.root.append(titlebar);\n",
       "    this.header = titletext[0];\n",
       "}\n",
       "\n",
       "\n",
       "\n",
       "mpl.figure.prototype._canvas_extra_style = function(canvas_div) {\n",
       "\n",
       "}\n",
       "\n",
       "\n",
       "mpl.figure.prototype._root_extra_style = function(canvas_div) {\n",
       "\n",
       "}\n",
       "\n",
       "mpl.figure.prototype._init_canvas = function() {\n",
       "    var fig = this;\n",
       "\n",
       "    var canvas_div = $('<div/>');\n",
       "\n",
       "    canvas_div.attr('style', 'position: relative; clear: both; outline: 0');\n",
       "\n",
       "    function canvas_keyboard_event(event) {\n",
       "        return fig.key_event(event, event['data']);\n",
       "    }\n",
       "\n",
       "    canvas_div.keydown('key_press', canvas_keyboard_event);\n",
       "    canvas_div.keyup('key_release', canvas_keyboard_event);\n",
       "    this.canvas_div = canvas_div\n",
       "    this._canvas_extra_style(canvas_div)\n",
       "    this.root.append(canvas_div);\n",
       "\n",
       "    var canvas = $('<canvas/>');\n",
       "    canvas.addClass('mpl-canvas');\n",
       "    canvas.attr('style', \"left: 0; top: 0; z-index: 0; outline: 0\")\n",
       "\n",
       "    this.canvas = canvas[0];\n",
       "    this.context = canvas[0].getContext(\"2d\");\n",
       "\n",
       "    var backingStore = this.context.backingStorePixelRatio ||\n",
       "\tthis.context.webkitBackingStorePixelRatio ||\n",
       "\tthis.context.mozBackingStorePixelRatio ||\n",
       "\tthis.context.msBackingStorePixelRatio ||\n",
       "\tthis.context.oBackingStorePixelRatio ||\n",
       "\tthis.context.backingStorePixelRatio || 1;\n",
       "\n",
       "    mpl.ratio = (window.devicePixelRatio || 1) / backingStore;\n",
       "\n",
       "    var rubberband = $('<canvas/>');\n",
       "    rubberband.attr('style', \"position: absolute; left: 0; top: 0; z-index: 1;\")\n",
       "\n",
       "    var pass_mouse_events = true;\n",
       "\n",
       "    canvas_div.resizable({\n",
       "        start: function(event, ui) {\n",
       "            pass_mouse_events = false;\n",
       "        },\n",
       "        resize: function(event, ui) {\n",
       "            fig.request_resize(ui.size.width, ui.size.height);\n",
       "        },\n",
       "        stop: function(event, ui) {\n",
       "            pass_mouse_events = true;\n",
       "            fig.request_resize(ui.size.width, ui.size.height);\n",
       "        },\n",
       "    });\n",
       "\n",
       "    function mouse_event_fn(event) {\n",
       "        if (pass_mouse_events)\n",
       "            return fig.mouse_event(event, event['data']);\n",
       "    }\n",
       "\n",
       "    rubberband.mousedown('button_press', mouse_event_fn);\n",
       "    rubberband.mouseup('button_release', mouse_event_fn);\n",
       "    // Throttle sequential mouse events to 1 every 20ms.\n",
       "    rubberband.mousemove('motion_notify', mouse_event_fn);\n",
       "\n",
       "    rubberband.mouseenter('figure_enter', mouse_event_fn);\n",
       "    rubberband.mouseleave('figure_leave', mouse_event_fn);\n",
       "\n",
       "    canvas_div.on(\"wheel\", function (event) {\n",
       "        event = event.originalEvent;\n",
       "        event['data'] = 'scroll'\n",
       "        if (event.deltaY < 0) {\n",
       "            event.step = 1;\n",
       "        } else {\n",
       "            event.step = -1;\n",
       "        }\n",
       "        mouse_event_fn(event);\n",
       "    });\n",
       "\n",
       "    canvas_div.append(canvas);\n",
       "    canvas_div.append(rubberband);\n",
       "\n",
       "    this.rubberband = rubberband;\n",
       "    this.rubberband_canvas = rubberband[0];\n",
       "    this.rubberband_context = rubberband[0].getContext(\"2d\");\n",
       "    this.rubberband_context.strokeStyle = \"#000000\";\n",
       "\n",
       "    this._resize_canvas = function(width, height) {\n",
       "        // Keep the size of the canvas, canvas container, and rubber band\n",
       "        // canvas in synch.\n",
       "        canvas_div.css('width', width)\n",
       "        canvas_div.css('height', height)\n",
       "\n",
       "        canvas.attr('width', width * mpl.ratio);\n",
       "        canvas.attr('height', height * mpl.ratio);\n",
       "        canvas.attr('style', 'width: ' + width + 'px; height: ' + height + 'px;');\n",
       "\n",
       "        rubberband.attr('width', width);\n",
       "        rubberband.attr('height', height);\n",
       "    }\n",
       "\n",
       "    // Set the figure to an initial 600x600px, this will subsequently be updated\n",
       "    // upon first draw.\n",
       "    this._resize_canvas(600, 600);\n",
       "\n",
       "    // Disable right mouse context menu.\n",
       "    $(this.rubberband_canvas).bind(\"contextmenu\",function(e){\n",
       "        return false;\n",
       "    });\n",
       "\n",
       "    function set_focus () {\n",
       "        canvas.focus();\n",
       "        canvas_div.focus();\n",
       "    }\n",
       "\n",
       "    window.setTimeout(set_focus, 100);\n",
       "}\n",
       "\n",
       "mpl.figure.prototype._init_toolbar = function() {\n",
       "    var fig = this;\n",
       "\n",
       "    var nav_element = $('<div/>')\n",
       "    nav_element.attr('style', 'width: 100%');\n",
       "    this.root.append(nav_element);\n",
       "\n",
       "    // Define a callback function for later on.\n",
       "    function toolbar_event(event) {\n",
       "        return fig.toolbar_button_onclick(event['data']);\n",
       "    }\n",
       "    function toolbar_mouse_event(event) {\n",
       "        return fig.toolbar_button_onmouseover(event['data']);\n",
       "    }\n",
       "\n",
       "    for(var toolbar_ind in mpl.toolbar_items) {\n",
       "        var name = mpl.toolbar_items[toolbar_ind][0];\n",
       "        var tooltip = mpl.toolbar_items[toolbar_ind][1];\n",
       "        var image = mpl.toolbar_items[toolbar_ind][2];\n",
       "        var method_name = mpl.toolbar_items[toolbar_ind][3];\n",
       "\n",
       "        if (!name) {\n",
       "            // put a spacer in here.\n",
       "            continue;\n",
       "        }\n",
       "        var button = $('<button/>');\n",
       "        button.addClass('ui-button ui-widget ui-state-default ui-corner-all ' +\n",
       "                        'ui-button-icon-only');\n",
       "        button.attr('role', 'button');\n",
       "        button.attr('aria-disabled', 'false');\n",
       "        button.click(method_name, toolbar_event);\n",
       "        button.mouseover(tooltip, toolbar_mouse_event);\n",
       "\n",
       "        var icon_img = $('<span/>');\n",
       "        icon_img.addClass('ui-button-icon-primary ui-icon');\n",
       "        icon_img.addClass(image);\n",
       "        icon_img.addClass('ui-corner-all');\n",
       "\n",
       "        var tooltip_span = $('<span/>');\n",
       "        tooltip_span.addClass('ui-button-text');\n",
       "        tooltip_span.html(tooltip);\n",
       "\n",
       "        button.append(icon_img);\n",
       "        button.append(tooltip_span);\n",
       "\n",
       "        nav_element.append(button);\n",
       "    }\n",
       "\n",
       "    var fmt_picker_span = $('<span/>');\n",
       "\n",
       "    var fmt_picker = $('<select/>');\n",
       "    fmt_picker.addClass('mpl-toolbar-option ui-widget ui-widget-content');\n",
       "    fmt_picker_span.append(fmt_picker);\n",
       "    nav_element.append(fmt_picker_span);\n",
       "    this.format_dropdown = fmt_picker[0];\n",
       "\n",
       "    for (var ind in mpl.extensions) {\n",
       "        var fmt = mpl.extensions[ind];\n",
       "        var option = $(\n",
       "            '<option/>', {selected: fmt === mpl.default_extension}).html(fmt);\n",
       "        fmt_picker.append(option)\n",
       "    }\n",
       "\n",
       "    // Add hover states to the ui-buttons\n",
       "    $( \".ui-button\" ).hover(\n",
       "        function() { $(this).addClass(\"ui-state-hover\");},\n",
       "        function() { $(this).removeClass(\"ui-state-hover\");}\n",
       "    );\n",
       "\n",
       "    var status_bar = $('<span class=\"mpl-message\"/>');\n",
       "    nav_element.append(status_bar);\n",
       "    this.message = status_bar[0];\n",
       "}\n",
       "\n",
       "mpl.figure.prototype.request_resize = function(x_pixels, y_pixels) {\n",
       "    // Request matplotlib to resize the figure. Matplotlib will then trigger a resize in the client,\n",
       "    // which will in turn request a refresh of the image.\n",
       "    this.send_message('resize', {'width': x_pixels, 'height': y_pixels});\n",
       "}\n",
       "\n",
       "mpl.figure.prototype.send_message = function(type, properties) {\n",
       "    properties['type'] = type;\n",
       "    properties['figure_id'] = this.id;\n",
       "    this.ws.send(JSON.stringify(properties));\n",
       "}\n",
       "\n",
       "mpl.figure.prototype.send_draw_message = function() {\n",
       "    if (!this.waiting) {\n",
       "        this.waiting = true;\n",
       "        this.ws.send(JSON.stringify({type: \"draw\", figure_id: this.id}));\n",
       "    }\n",
       "}\n",
       "\n",
       "\n",
       "mpl.figure.prototype.handle_save = function(fig, msg) {\n",
       "    var format_dropdown = fig.format_dropdown;\n",
       "    var format = format_dropdown.options[format_dropdown.selectedIndex].value;\n",
       "    fig.ondownload(fig, format);\n",
       "}\n",
       "\n",
       "\n",
       "mpl.figure.prototype.handle_resize = function(fig, msg) {\n",
       "    var size = msg['size'];\n",
       "    if (size[0] != fig.canvas.width || size[1] != fig.canvas.height) {\n",
       "        fig._resize_canvas(size[0], size[1]);\n",
       "        fig.send_message(\"refresh\", {});\n",
       "    };\n",
       "}\n",
       "\n",
       "mpl.figure.prototype.handle_rubberband = function(fig, msg) {\n",
       "    var x0 = msg['x0'] / mpl.ratio;\n",
       "    var y0 = (fig.canvas.height - msg['y0']) / mpl.ratio;\n",
       "    var x1 = msg['x1'] / mpl.ratio;\n",
       "    var y1 = (fig.canvas.height - msg['y1']) / mpl.ratio;\n",
       "    x0 = Math.floor(x0) + 0.5;\n",
       "    y0 = Math.floor(y0) + 0.5;\n",
       "    x1 = Math.floor(x1) + 0.5;\n",
       "    y1 = Math.floor(y1) + 0.5;\n",
       "    var min_x = Math.min(x0, x1);\n",
       "    var min_y = Math.min(y0, y1);\n",
       "    var width = Math.abs(x1 - x0);\n",
       "    var height = Math.abs(y1 - y0);\n",
       "\n",
       "    fig.rubberband_context.clearRect(\n",
       "        0, 0, fig.canvas.width, fig.canvas.height);\n",
       "\n",
       "    fig.rubberband_context.strokeRect(min_x, min_y, width, height);\n",
       "}\n",
       "\n",
       "mpl.figure.prototype.handle_figure_label = function(fig, msg) {\n",
       "    // Updates the figure title.\n",
       "    fig.header.textContent = msg['label'];\n",
       "}\n",
       "\n",
       "mpl.figure.prototype.handle_cursor = function(fig, msg) {\n",
       "    var cursor = msg['cursor'];\n",
       "    switch(cursor)\n",
       "    {\n",
       "    case 0:\n",
       "        cursor = 'pointer';\n",
       "        break;\n",
       "    case 1:\n",
       "        cursor = 'default';\n",
       "        break;\n",
       "    case 2:\n",
       "        cursor = 'crosshair';\n",
       "        break;\n",
       "    case 3:\n",
       "        cursor = 'move';\n",
       "        break;\n",
       "    }\n",
       "    fig.rubberband_canvas.style.cursor = cursor;\n",
       "}\n",
       "\n",
       "mpl.figure.prototype.handle_message = function(fig, msg) {\n",
       "    fig.message.textContent = msg['message'];\n",
       "}\n",
       "\n",
       "mpl.figure.prototype.handle_draw = function(fig, msg) {\n",
       "    // Request the server to send over a new figure.\n",
       "    fig.send_draw_message();\n",
       "}\n",
       "\n",
       "mpl.figure.prototype.handle_image_mode = function(fig, msg) {\n",
       "    fig.image_mode = msg['mode'];\n",
       "}\n",
       "\n",
       "mpl.figure.prototype.updated_canvas_event = function() {\n",
       "    // Called whenever the canvas gets updated.\n",
       "    this.send_message(\"ack\", {});\n",
       "}\n",
       "\n",
       "// A function to construct a web socket function for onmessage handling.\n",
       "// Called in the figure constructor.\n",
       "mpl.figure.prototype._make_on_message_function = function(fig) {\n",
       "    return function socket_on_message(evt) {\n",
       "        if (evt.data instanceof Blob) {\n",
       "            /* FIXME: We get \"Resource interpreted as Image but\n",
       "             * transferred with MIME type text/plain:\" errors on\n",
       "             * Chrome.  But how to set the MIME type?  It doesn't seem\n",
       "             * to be part of the websocket stream */\n",
       "            evt.data.type = \"image/png\";\n",
       "\n",
       "            /* Free the memory for the previous frames */\n",
       "            if (fig.imageObj.src) {\n",
       "                (window.URL || window.webkitURL).revokeObjectURL(\n",
       "                    fig.imageObj.src);\n",
       "            }\n",
       "\n",
       "            fig.imageObj.src = (window.URL || window.webkitURL).createObjectURL(\n",
       "                evt.data);\n",
       "            fig.updated_canvas_event();\n",
       "            fig.waiting = false;\n",
       "            return;\n",
       "        }\n",
       "        else if (typeof evt.data === 'string' && evt.data.slice(0, 21) == \"data:image/png;base64\") {\n",
       "            fig.imageObj.src = evt.data;\n",
       "            fig.updated_canvas_event();\n",
       "            fig.waiting = false;\n",
       "            return;\n",
       "        }\n",
       "\n",
       "        var msg = JSON.parse(evt.data);\n",
       "        var msg_type = msg['type'];\n",
       "\n",
       "        // Call the  \"handle_{type}\" callback, which takes\n",
       "        // the figure and JSON message as its only arguments.\n",
       "        try {\n",
       "            var callback = fig[\"handle_\" + msg_type];\n",
       "        } catch (e) {\n",
       "            console.log(\"No handler for the '\" + msg_type + \"' message type: \", msg);\n",
       "            return;\n",
       "        }\n",
       "\n",
       "        if (callback) {\n",
       "            try {\n",
       "                // console.log(\"Handling '\" + msg_type + \"' message: \", msg);\n",
       "                callback(fig, msg);\n",
       "            } catch (e) {\n",
       "                console.log(\"Exception inside the 'handler_\" + msg_type + \"' callback:\", e, e.stack, msg);\n",
       "            }\n",
       "        }\n",
       "    };\n",
       "}\n",
       "\n",
       "// from http://stackoverflow.com/questions/1114465/getting-mouse-location-in-canvas\n",
       "mpl.findpos = function(e) {\n",
       "    //this section is from http://www.quirksmode.org/js/events_properties.html\n",
       "    var targ;\n",
       "    if (!e)\n",
       "        e = window.event;\n",
       "    if (e.target)\n",
       "        targ = e.target;\n",
       "    else if (e.srcElement)\n",
       "        targ = e.srcElement;\n",
       "    if (targ.nodeType == 3) // defeat Safari bug\n",
       "        targ = targ.parentNode;\n",
       "\n",
       "    // jQuery normalizes the pageX and pageY\n",
       "    // pageX,Y are the mouse positions relative to the document\n",
       "    // offset() returns the position of the element relative to the document\n",
       "    var x = e.pageX - $(targ).offset().left;\n",
       "    var y = e.pageY - $(targ).offset().top;\n",
       "\n",
       "    return {\"x\": x, \"y\": y};\n",
       "};\n",
       "\n",
       "/*\n",
       " * return a copy of an object with only non-object keys\n",
       " * we need this to avoid circular references\n",
       " * http://stackoverflow.com/a/24161582/3208463\n",
       " */\n",
       "function simpleKeys (original) {\n",
       "  return Object.keys(original).reduce(function (obj, key) {\n",
       "    if (typeof original[key] !== 'object')\n",
       "        obj[key] = original[key]\n",
       "    return obj;\n",
       "  }, {});\n",
       "}\n",
       "\n",
       "mpl.figure.prototype.mouse_event = function(event, name) {\n",
       "    var canvas_pos = mpl.findpos(event)\n",
       "\n",
       "    if (name === 'button_press')\n",
       "    {\n",
       "        this.canvas.focus();\n",
       "        this.canvas_div.focus();\n",
       "    }\n",
       "\n",
       "    var x = canvas_pos.x * mpl.ratio;\n",
       "    var y = canvas_pos.y * mpl.ratio;\n",
       "\n",
       "    this.send_message(name, {x: x, y: y, button: event.button,\n",
       "                             step: event.step,\n",
       "                             guiEvent: simpleKeys(event)});\n",
       "\n",
       "    /* This prevents the web browser from automatically changing to\n",
       "     * the text insertion cursor when the button is pressed.  We want\n",
       "     * to control all of the cursor setting manually through the\n",
       "     * 'cursor' event from matplotlib */\n",
       "    event.preventDefault();\n",
       "    return false;\n",
       "}\n",
       "\n",
       "mpl.figure.prototype._key_event_extra = function(event, name) {\n",
       "    // Handle any extra behaviour associated with a key event\n",
       "}\n",
       "\n",
       "mpl.figure.prototype.key_event = function(event, name) {\n",
       "\n",
       "    // Prevent repeat events\n",
       "    if (name == 'key_press')\n",
       "    {\n",
       "        if (event.which === this._key)\n",
       "            return;\n",
       "        else\n",
       "            this._key = event.which;\n",
       "    }\n",
       "    if (name == 'key_release')\n",
       "        this._key = null;\n",
       "\n",
       "    var value = '';\n",
       "    if (event.ctrlKey && event.which != 17)\n",
       "        value += \"ctrl+\";\n",
       "    if (event.altKey && event.which != 18)\n",
       "        value += \"alt+\";\n",
       "    if (event.shiftKey && event.which != 16)\n",
       "        value += \"shift+\";\n",
       "\n",
       "    value += 'k';\n",
       "    value += event.which.toString();\n",
       "\n",
       "    this._key_event_extra(event, name);\n",
       "\n",
       "    this.send_message(name, {key: value,\n",
       "                             guiEvent: simpleKeys(event)});\n",
       "    return false;\n",
       "}\n",
       "\n",
       "mpl.figure.prototype.toolbar_button_onclick = function(name) {\n",
       "    if (name == 'download') {\n",
       "        this.handle_save(this, null);\n",
       "    } else {\n",
       "        this.send_message(\"toolbar_button\", {name: name});\n",
       "    }\n",
       "};\n",
       "\n",
       "mpl.figure.prototype.toolbar_button_onmouseover = function(tooltip) {\n",
       "    this.message.textContent = tooltip;\n",
       "};\n",
       "mpl.toolbar_items = [[\"Home\", \"Reset original view\", \"fa fa-home icon-home\", \"home\"], [\"Back\", \"Back to previous view\", \"fa fa-arrow-left icon-arrow-left\", \"back\"], [\"Forward\", \"Forward to next view\", \"fa fa-arrow-right icon-arrow-right\", \"forward\"], [\"\", \"\", \"\", \"\"], [\"Pan\", \"Pan axes with left mouse, zoom with right\", \"fa fa-arrows icon-move\", \"pan\"], [\"Zoom\", \"Zoom to rectangle\", \"fa fa-square-o icon-check-empty\", \"zoom\"], [\"\", \"\", \"\", \"\"], [\"Download\", \"Download plot\", \"fa fa-floppy-o icon-save\", \"download\"]];\n",
       "\n",
       "mpl.extensions = [\"eps\", \"jpeg\", \"pdf\", \"png\", \"ps\", \"raw\", \"svg\", \"tif\"];\n",
       "\n",
       "mpl.default_extension = \"png\";var comm_websocket_adapter = function(comm) {\n",
       "    // Create a \"websocket\"-like object which calls the given IPython comm\n",
       "    // object with the appropriate methods. Currently this is a non binary\n",
       "    // socket, so there is still some room for performance tuning.\n",
       "    var ws = {};\n",
       "\n",
       "    ws.close = function() {\n",
       "        comm.close()\n",
       "    };\n",
       "    ws.send = function(m) {\n",
       "        //console.log('sending', m);\n",
       "        comm.send(m);\n",
       "    };\n",
       "    // Register the callback with on_msg.\n",
       "    comm.on_msg(function(msg) {\n",
       "        //console.log('receiving', msg['content']['data'], msg);\n",
       "        // Pass the mpl event to the overridden (by mpl) onmessage function.\n",
       "        ws.onmessage(msg['content']['data'])\n",
       "    });\n",
       "    return ws;\n",
       "}\n",
       "\n",
       "mpl.mpl_figure_comm = function(comm, msg) {\n",
       "    // This is the function which gets called when the mpl process\n",
       "    // starts-up an IPython Comm through the \"matplotlib\" channel.\n",
       "\n",
       "    var id = msg.content.data.id;\n",
       "    // Get hold of the div created by the display call when the Comm\n",
       "    // socket was opened in Python.\n",
       "    var element = $(\"#\" + id);\n",
       "    var ws_proxy = comm_websocket_adapter(comm)\n",
       "\n",
       "    function ondownload(figure, format) {\n",
       "        window.open(figure.imageObj.src);\n",
       "    }\n",
       "\n",
       "    var fig = new mpl.figure(id, ws_proxy,\n",
       "                           ondownload,\n",
       "                           element.get(0));\n",
       "\n",
       "    // Call onopen now - mpl needs it, as it is assuming we've passed it a real\n",
       "    // web socket which is closed, not our websocket->open comm proxy.\n",
       "    ws_proxy.onopen();\n",
       "\n",
       "    fig.parent_element = element.get(0);\n",
       "    fig.cell_info = mpl.find_output_cell(\"<div id='\" + id + \"'></div>\");\n",
       "    if (!fig.cell_info) {\n",
       "        console.error(\"Failed to find cell for figure\", id, fig);\n",
       "        return;\n",
       "    }\n",
       "\n",
       "    var output_index = fig.cell_info[2]\n",
       "    var cell = fig.cell_info[0];\n",
       "\n",
       "};\n",
       "\n",
       "mpl.figure.prototype.handle_close = function(fig, msg) {\n",
       "    var width = fig.canvas.width/mpl.ratio\n",
       "    fig.root.unbind('remove')\n",
       "\n",
       "    // Update the output cell to use the data from the current canvas.\n",
       "    fig.push_to_output();\n",
       "    var dataURL = fig.canvas.toDataURL();\n",
       "    // Re-enable the keyboard manager in IPython - without this line, in FF,\n",
       "    // the notebook keyboard shortcuts fail.\n",
       "    IPython.keyboard_manager.enable()\n",
       "    $(fig.parent_element).html('<img src=\"' + dataURL + '\" width=\"' + width + '\">');\n",
       "    fig.close_ws(fig, msg);\n",
       "}\n",
       "\n",
       "mpl.figure.prototype.close_ws = function(fig, msg){\n",
       "    fig.send_message('closing', msg);\n",
       "    // fig.ws.close()\n",
       "}\n",
       "\n",
       "mpl.figure.prototype.push_to_output = function(remove_interactive) {\n",
       "    // Turn the data on the canvas into data in the output cell.\n",
       "    var width = this.canvas.width/mpl.ratio\n",
       "    var dataURL = this.canvas.toDataURL();\n",
       "    this.cell_info[1]['text/html'] = '<img src=\"' + dataURL + '\" width=\"' + width + '\">';\n",
       "}\n",
       "\n",
       "mpl.figure.prototype.updated_canvas_event = function() {\n",
       "    // Tell IPython that the notebook contents must change.\n",
       "    IPython.notebook.set_dirty(true);\n",
       "    this.send_message(\"ack\", {});\n",
       "    var fig = this;\n",
       "    // Wait a second, then push the new image to the DOM so\n",
       "    // that it is saved nicely (might be nice to debounce this).\n",
       "    setTimeout(function () { fig.push_to_output() }, 1000);\n",
       "}\n",
       "\n",
       "mpl.figure.prototype._init_toolbar = function() {\n",
       "    var fig = this;\n",
       "\n",
       "    var nav_element = $('<div/>')\n",
       "    nav_element.attr('style', 'width: 100%');\n",
       "    this.root.append(nav_element);\n",
       "\n",
       "    // Define a callback function for later on.\n",
       "    function toolbar_event(event) {\n",
       "        return fig.toolbar_button_onclick(event['data']);\n",
       "    }\n",
       "    function toolbar_mouse_event(event) {\n",
       "        return fig.toolbar_button_onmouseover(event['data']);\n",
       "    }\n",
       "\n",
       "    for(var toolbar_ind in mpl.toolbar_items){\n",
       "        var name = mpl.toolbar_items[toolbar_ind][0];\n",
       "        var tooltip = mpl.toolbar_items[toolbar_ind][1];\n",
       "        var image = mpl.toolbar_items[toolbar_ind][2];\n",
       "        var method_name = mpl.toolbar_items[toolbar_ind][3];\n",
       "\n",
       "        if (!name) { continue; };\n",
       "\n",
       "        var button = $('<button class=\"btn btn-default\" href=\"#\" title=\"' + name + '\"><i class=\"fa ' + image + ' fa-lg\"></i></button>');\n",
       "        button.click(method_name, toolbar_event);\n",
       "        button.mouseover(tooltip, toolbar_mouse_event);\n",
       "        nav_element.append(button);\n",
       "    }\n",
       "\n",
       "    // Add the status bar.\n",
       "    var status_bar = $('<span class=\"mpl-message\" style=\"text-align:right; float: right;\"/>');\n",
       "    nav_element.append(status_bar);\n",
       "    this.message = status_bar[0];\n",
       "\n",
       "    // Add the close button to the window.\n",
       "    var buttongrp = $('<div class=\"btn-group inline pull-right\"></div>');\n",
       "    var button = $('<button class=\"btn btn-mini btn-primary\" href=\"#\" title=\"Stop Interaction\"><i class=\"fa fa-power-off icon-remove icon-large\"></i></button>');\n",
       "    button.click(function (evt) { fig.handle_close(fig, {}); } );\n",
       "    button.mouseover('Stop Interaction', toolbar_mouse_event);\n",
       "    buttongrp.append(button);\n",
       "    var titlebar = this.root.find($('.ui-dialog-titlebar'));\n",
       "    titlebar.prepend(buttongrp);\n",
       "}\n",
       "\n",
       "mpl.figure.prototype._root_extra_style = function(el){\n",
       "    var fig = this\n",
       "    el.on(\"remove\", function(){\n",
       "\tfig.close_ws(fig, {});\n",
       "    });\n",
       "}\n",
       "\n",
       "mpl.figure.prototype._canvas_extra_style = function(el){\n",
       "    // this is important to make the div 'focusable\n",
       "    el.attr('tabindex', 0)\n",
       "    // reach out to IPython and tell the keyboard manager to turn it's self\n",
       "    // off when our div gets focus\n",
       "\n",
       "    // location in version 3\n",
       "    if (IPython.notebook.keyboard_manager) {\n",
       "        IPython.notebook.keyboard_manager.register_events(el);\n",
       "    }\n",
       "    else {\n",
       "        // location in version 2\n",
       "        IPython.keyboard_manager.register_events(el);\n",
       "    }\n",
       "\n",
       "}\n",
       "\n",
       "mpl.figure.prototype._key_event_extra = function(event, name) {\n",
       "    var manager = IPython.notebook.keyboard_manager;\n",
       "    if (!manager)\n",
       "        manager = IPython.keyboard_manager;\n",
       "\n",
       "    // Check for shift+enter\n",
       "    if (event.shiftKey && event.which == 13) {\n",
       "        this.canvas_div.blur();\n",
       "        event.shiftKey = false;\n",
       "        // Send a \"J\" for go to next cell\n",
       "        event.which = 74;\n",
       "        event.keyCode = 74;\n",
       "        manager.command_mode();\n",
       "        manager.handle_keydown(event);\n",
       "    }\n",
       "}\n",
       "\n",
       "mpl.figure.prototype.handle_save = function(fig, msg) {\n",
       "    fig.ondownload(fig, null);\n",
       "}\n",
       "\n",
       "\n",
       "mpl.find_output_cell = function(html_output) {\n",
       "    // Return the cell and output element which can be found *uniquely* in the notebook.\n",
       "    // Note - this is a bit hacky, but it is done because the \"notebook_saving.Notebook\"\n",
       "    // IPython event is triggered only after the cells have been serialised, which for\n",
       "    // our purposes (turning an active figure into a static one), is too late.\n",
       "    var cells = IPython.notebook.get_cells();\n",
       "    var ncells = cells.length;\n",
       "    for (var i=0; i<ncells; i++) {\n",
       "        var cell = cells[i];\n",
       "        if (cell.cell_type === 'code'){\n",
       "            for (var j=0; j<cell.output_area.outputs.length; j++) {\n",
       "                var data = cell.output_area.outputs[j];\n",
       "                if (data.data) {\n",
       "                    // IPython >= 3 moved mimebundle to data attribute of output\n",
       "                    data = data.data;\n",
       "                }\n",
       "                if (data['text/html'] == html_output) {\n",
       "                    return [cell, data, j];\n",
       "                }\n",
       "            }\n",
       "        }\n",
       "    }\n",
       "}\n",
       "\n",
       "// Register the function which deals with the matplotlib target/channel.\n",
       "// The kernel may be null if the page has been refreshed.\n",
       "if (IPython.notebook.kernel != null) {\n",
       "    IPython.notebook.kernel.comm_manager.register_target('matplotlib', mpl.mpl_figure_comm);\n",
       "}\n"
      ],
      "text/plain": [
       "<IPython.core.display.Javascript object>"
      ]
     },
     "metadata": {},
     "output_type": "display_data"
    },
    {
     "data": {
      "text/html": [
       "<img src=\"data:image/png;base64,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\" width=\"639.9999861283738\">"
      ],
      "text/plain": [
       "<IPython.core.display.HTML object>"
      ]
     },
     "metadata": {},
     "output_type": "display_data"
    },
    {
     "data": {
      "text/plain": [
       "<matplotlib.legend.Legend at 0x7ff3d9c680f0>"
      ]
     },
     "execution_count": 164,
     "metadata": {},
     "output_type": "execute_result"
    }
   ],
   "source": [
    "plt.plot(lvPosVector.mean(axis=0), lvSpeedOfAgent.mean(axis=0) * 3.6, label='local view 15m')\n",
    "plt.plot(lvCommPosVector.mean(axis=0), lvCommSpeedOfAgent.mean(axis=0) *3.6, label='local view 15m + comm 15m')\n",
    "plt.xlabel('position')\n",
    "plt.ylabel('speed (km/hr)')\n",
    "plt.legend()"
   ]
  },
  {
   "cell_type": "markdown",
   "metadata": {},
   "source": [
    "# Distance to vehicle in front and back"
   ]
  },
  {
   "cell_type": "markdown",
   "metadata": {},
   "source": [
    "### Homo Local view"
   ]
  },
  {
   "cell_type": "code",
   "execution_count": 8,
   "metadata": {},
   "outputs": [],
   "source": [
    "frontDist = {}\n",
    "frontDist['complete'] = []\n",
    "\n",
    "for episode in homoLocalView15mData['data']['0.4_0.4'].keys():\n",
    "    epLen = len(homoLocalView15mData['data']['0.4_0.4'][episode]['frontDiff'])\n",
    "    \n",
    "    if epLen == homoLocalView15mData['max-episode-length']:\n",
    "        frontDist['complete'].append(homoLocalView15mData['data']['0.4_0.4'][episode]['frontDiff'])"
   ]
  },
  {
   "cell_type": "code",
   "execution_count": 9,
   "metadata": {},
   "outputs": [
    {
     "name": "stdout",
     "output_type": "stream",
     "text": [
      "(35, 2400)\n"
     ]
    }
   ],
   "source": [
    "frontDist['complete'] = np.array(frontDist['complete'])\n",
    "print(frontDist['complete'].shape)"
   ]
  },
  {
   "cell_type": "code",
   "execution_count": 10,
   "metadata": {},
   "outputs": [],
   "source": [
    "backDist = {}\n",
    "backDist['complete'] = []\n",
    "\n",
    "for episode in homoLocalView15mData['data']['0.4_0.4'].keys():\n",
    "    epLen = len(homoLocalView15mData['data']['0.4_0.4'][episode]['backDiff'])\n",
    "    \n",
    "    if epLen == homoLocalView15mData['max-episode-length']:\n",
    "        backDist['complete'].append(homoLocalView15mData['data']['0.4_0.4'][episode]['backDiff'])"
   ]
  },
  {
   "cell_type": "code",
   "execution_count": 11,
   "metadata": {},
   "outputs": [
    {
     "name": "stdout",
     "output_type": "stream",
     "text": [
      "(35, 2400)\n"
     ]
    }
   ],
   "source": [
    "backDist['complete'] = np.array(backDist['complete'])\n",
    "print(backDist['complete'].shape)"
   ]
  },
  {
   "cell_type": "code",
   "execution_count": 12,
   "metadata": {},
   "outputs": [
    {
     "data": {
      "text/plain": [
       "(2400,)"
      ]
     },
     "execution_count": 12,
     "metadata": {},
     "output_type": "execute_result"
    }
   ],
   "source": [
    "backDist['complete'].mean(axis=0).shape\n",
    "frontDist['complete'].mean(axis=0).shape"
   ]
  },
  {
   "cell_type": "code",
   "execution_count": 77,
   "metadata": {},
   "outputs": [],
   "source": [
    "episodeToPlot = 2"
   ]
  },
  {
   "cell_type": "code",
   "execution_count": 78,
   "metadata": {
    "scrolled": true
   },
   "outputs": [
    {
     "data": {
      "text/plain": [
       "Text(0.5, 1.0, 'Local View 15m')"
      ]
     },
     "execution_count": 78,
     "metadata": {},
     "output_type": "execute_result"
    },
    {
     "data": {
      "image/png": "[encoded data removed]",
      "text/plain": [
       "<Figure size 432x288 with 1 Axes>"
      ]
     },
     "metadata": {
      "needs_background": "light"
     },
     "output_type": "display_data"
    }
   ],
   "source": [
    "plt.plot(backDist['complete'][episodeToPlot][0:400], label='rear vehicle')\n",
    "plt.plot(frontDist['complete'][episodeToPlot][0:400], label='front vehicle')\n",
    "plt.legend()\n",
    "plt.ylabel('dist. from ego vehicle (m)')\n",
    "plt.xlabel('time-steps')\n",
    "plt.title('Local View 15m')"
   ]
  },
  {
   "cell_type": "code",
   "execution_count": 68,
   "metadata": {},
   "outputs": [
    {
     "data": {
      "text/plain": [
       "35"
      ]
     },
     "execution_count": 68,
     "metadata": {},
     "output_type": "execute_result"
    }
   ],
   "source": [
    "len(agentPlanHomoLocalView15m)"
   ]
  },
  {
   "cell_type": "code",
   "execution_count": 69,
   "metadata": {},
   "outputs": [
    {
     "data": {
      "text/plain": [
       "35"
      ]
     },
     "execution_count": 69,
     "metadata": {},
     "output_type": "execute_result"
    }
   ],
   "source": [
    "len(backDist['complete'])"
   ]
  },
  {
   "cell_type": "code",
   "execution_count": 70,
   "metadata": {},
   "outputs": [
    {
     "data": {
      "text/plain": [
       "2400"
      ]
     },
     "execution_count": 70,
     "metadata": {},
     "output_type": "execute_result"
    }
   ],
   "source": [
    "len(agentPlanHomoLocalView15m[episodeToPlot])"
   ]
  },
  {
   "cell_type": "code",
   "execution_count": 79,
   "metadata": {},
   "outputs": [],
   "source": [
    "mask = np.zeros((len(agentPlanHomoLocalView15m[episodeToPlot]),))\n",
    "for idx, act in enumerate(agentPlanHomoLocalView15m[episodeToPlot]):\n",
    "    if planEncode['lane-change'] == act:\n",
    "        mask[idx] = 1.0\n",
    "mask = np.multiply(mask, backDist['complete'][episodeToPlot])"
   ]
  },
  {
   "cell_type": "code",
   "execution_count": 80,
   "metadata": {},
   "outputs": [
    {
     "data": {
      "text/plain": [
       "(1, 40)"
      ]
     },
     "execution_count": 80,
     "metadata": {},
     "output_type": "execute_result"
    },
    {
     "data": {
      "image/png": "[encoded data removed]",
      "text/plain": [
       "<Figure size 432x288 with 1 Axes>"
      ]
     },
     "metadata": {
      "needs_background": "light"
     },
     "output_type": "display_data"
    }
   ],
   "source": [
    "plt.plot(backDist['complete'][episodeToPlot][0:400], label='rear vehicle')\n",
    "plt.plot(frontDist['complete'][episodeToPlot][0:400], label='front vehicle')\n",
    "plt.scatter(np.arange(0, mask.shape[0])[0:400], mask[0:400], color='red', label='lane-change')\n",
    "plt.legend()\n",
    "plt.ylabel('dist. from ego vehicle (m)')\n",
    "plt.title('Local View 15m')\n",
    "plt.ylim([1, 40])"
   ]
  },
  {
   "cell_type": "markdown",
   "metadata": {},
   "source": [
    "### Homo LV15m +  Comm 15m"
   ]
  },
  {
   "cell_type": "code",
   "execution_count": 30,
   "metadata": {},
   "outputs": [],
   "source": [
    "frontDistHomoLV15mComm15m = {}\n",
    "frontDistHomoLV15mComm15m['complete'] = []\n",
    "\n",
    "for episode in homoLV15mComm15mData['data']['0.4_0.4'].keys():\n",
    "    epLen = len(homoLV15mComm15mData['data']['0.4_0.4'][episode]['frontDiff'])\n",
    "    \n",
    "    if epLen == homoLV15mComm15mData['max-episode-length']:\n",
    "        frontDistHomoLV15mComm15m['complete'].append(homoLV15mComm15mData['data']['0.4_0.4'][episode]['frontDiff'])"
   ]
  },
  {
   "cell_type": "code",
   "execution_count": 31,
   "metadata": {},
   "outputs": [
    {
     "name": "stdout",
     "output_type": "stream",
     "text": [
      "(29, 2400)\n"
     ]
    }
   ],
   "source": [
    "frontDistHomoLV15mComm15m['complete'] = np.array(frontDistHomoLV15mComm15m['complete'])\n",
    "print(frontDistHomoLV15mComm15m['complete'].shape)"
   ]
  },
  {
   "cell_type": "code",
   "execution_count": 32,
   "metadata": {},
   "outputs": [],
   "source": [
    "backDistHomoLV15mComm15m = {}\n",
    "backDistHomoLV15mComm15m['complete'] = []\n",
    "\n",
    "for episode in homoLV15mComm15mData['data']['0.4_0.4'].keys():\n",
    "    epLen = len(homoLV15mComm15mData['data']['0.4_0.4'][episode]['backDiff'])\n",
    "    \n",
    "    if epLen == homoLV15mComm15mData['max-episode-length']:\n",
    "        backDistHomoLV15mComm15m['complete'].append(homoLV15mComm15mData['data']['0.4_0.4'][episode]['backDiff'])"
   ]
  },
  {
   "cell_type": "code",
   "execution_count": 33,
   "metadata": {},
   "outputs": [
    {
     "name": "stdout",
     "output_type": "stream",
     "text": [
      "(29, 2400)\n"
     ]
    }
   ],
   "source": [
    "backDistHomoLV15mComm15m['complete'] = np.array(backDistHomoLV15mComm15m['complete'])\n",
    "print(backDistHomoLV15mComm15m['complete'].shape)"
   ]
  },
  {
   "cell_type": "code",
   "execution_count": 89,
   "metadata": {},
   "outputs": [],
   "source": [
    "episodeToPlot = 0"
   ]
  },
  {
   "cell_type": "code",
   "execution_count": 96,
   "metadata": {},
   "outputs": [
    {
     "data": {
      "text/plain": [
       "Text(0.5, 0, 'time-steps')"
      ]
     },
     "execution_count": 96,
     "metadata": {},
     "output_type": "execute_result"
    },
    {
     "data": {
      "image/png": "[encoded data removed]",
      "text/plain": [
       "<Figure size 432x288 with 1 Axes>"
      ]
     },
     "metadata": {
      "needs_background": "light"
     },
     "output_type": "display_data"
    }
   ],
   "source": [
    "plt.plot(backDistHomoLV15mComm15m['complete'][episodeToPlot][0:1400], label='rear vehicle')\n",
    "plt.plot(frontDistHomoLV15mComm15m['complete'][episodeToPlot][0:1400], label='front vehicle')\n",
    "plt.legend()\n",
    "plt.ylabel('dist. from ego vehicle (m)')\n",
    "plt.title(\"Local view 15m + Comm 15m\")\n",
    "plt.xlabel('time-steps')"
   ]
  },
  {
   "cell_type": "code",
   "execution_count": 98,
   "metadata": {},
   "outputs": [
    {
     "data": {
      "text/plain": [
       "29"
      ]
     },
     "execution_count": 98,
     "metadata": {},
     "output_type": "execute_result"
    }
   ],
   "source": [
    "len(agentPlanHomoLV15mComm15)"
   ]
  },
  {
   "cell_type": "code",
   "execution_count": 99,
   "metadata": {},
   "outputs": [
    {
     "data": {
      "text/plain": [
       "29"
      ]
     },
     "execution_count": 99,
     "metadata": {},
     "output_type": "execute_result"
    }
   ],
   "source": [
    "len(backDistHomoLV15mComm15m['complete'])"
   ]
  },
  {
   "cell_type": "code",
   "execution_count": 100,
   "metadata": {},
   "outputs": [
    {
     "data": {
      "text/plain": [
       "2400"
      ]
     },
     "execution_count": 100,
     "metadata": {},
     "output_type": "execute_result"
    }
   ],
   "source": [
    "len(agentPlanHomoLV15mComm15[episodeToPlot])"
   ]
  },
  {
   "cell_type": "code",
   "execution_count": 106,
   "metadata": {},
   "outputs": [],
   "source": [
    "mask = np.zeros((len(agentPlanHomoLV15mComm15[episodeToPlot]), ))\n",
    "for idx, act in enumerate(agentPlanHomoLV15mComm15[episodeToPlot]):\n",
    "    if planEncode['lane-change'] == act:\n",
    "        mask[idx] = 1.0\n",
    "mask = np.multiply(mask, backDistHomoLV15mComm15m['complete'][episodeToPlot])"
   ]
  },
  {
   "cell_type": "code",
   "execution_count": 111,
   "metadata": {},
   "outputs": [
    {
     "data": {
      "text/plain": [
       "(1, 17)"
      ]
     },
     "execution_count": 111,
     "metadata": {},
     "output_type": "execute_result"
    },
    {
     "data": {
      "image/png": "[encoded data removed]",
      "text/plain": [
       "<Figure size 432x288 with 1 Axes>"
      ]
     },
     "metadata": {
      "needs_background": "light"
     },
     "output_type": "display_data"
    }
   ],
   "source": [
    "plt.plot(backDistHomoLV15mComm15m['complete'][episodeToPlot][0:1400], label='rear vehicle')\n",
    "plt.plot(frontDistHomoLV15mComm15m['complete'][episodeToPlot][0:1400], label='front vehicle')\n",
    "plt.scatter(np.arange(0, mask.shape[0])[0:1400], mask[0:1400], color='red')\n",
    "plt.legend()\n",
    "plt.ylabel('dist. from ego vehicle (m)')\n",
    "plt.title(\"Local view 15m + Comm 15m\")\n",
    "plt.xlabel('time-steps')\n",
    "plt.ylim([1, 17])"
   ]
  },
  {
   "cell_type": "code",
   "execution_count": 123,
   "metadata": {},
   "outputs": [
    {
     "data": {
      "text/plain": [
       "Text(0.5, 0, 'time-steps')"
      ]
     },
     "execution_count": 123,
     "metadata": {},
     "output_type": "execute_result"
    },
    {
     "data": {
      "image/png": "[encoded data removed]",
      "text/plain": [
       "<Figure size 432x288 with 1 Axes>"
      ]
     },
     "metadata": {
      "needs_background": "light"
     },
     "output_type": "display_data"
    }
   ],
   "source": [
    "plt.plot(backDistHomoLV15mComm15m['complete'].mean(axis=0), label='rear vehicle, Local View 15m + Comm. 15m')\n",
    "plt.plot(frontDistHomoLV15mComm15m['complete'].mean(axis=0), label='front vehicle, Local View 15m + Comm. 15m')\n",
    "plt.plot(backDist['complete'].mean(axis=0), label='rear vehicle, Local View 15m')\n",
    "plt.plot(frontDist['complete'].mean(axis=0), label='front vehicle, Local View 15m')\n",
    "plt.legend()\n",
    "plt.ylabel('avg. dist. from ego vehicle (m)')\n",
    "plt.title(\"Comparison - dist from ego vehicle\")\n",
    "plt.xlabel('time-steps')\n",
    "#plt.ylim([1, 35])"
   ]
  }
 ],
 "metadata": {
  "kernelspec": {
   "display_name": "Python 3",
   "language": "python",
   "name": "python3"
  },
  "language_info": {
   "codemirror_mode": {
    "name": "ipython",
    "version": 3
   },
   "file_extension": ".py",
   "mimetype": "text/x-python",
   "name": "python",
   "nbconvert_exporter": "python",
   "pygments_lexer": "ipython3",
   "version": "3.6.8"
  }
 },
 "nbformat": 4,
 "nbformat_minor": 2
}
