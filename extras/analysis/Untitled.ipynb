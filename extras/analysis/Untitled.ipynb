{
 "cells": [
  {
   "cell_type": "markdown",
   "metadata": {},
   "source": [
    "### Import libraries here"
   ]
  },
  {
   "cell_type": "code",
   "execution_count": 1,
   "metadata": {},
   "outputs": [],
   "source": [
    "libPath = '/home/mayank/Documents/upgraded-octo-lamp/'"
   ]
  },
  {
   "cell_type": "code",
   "execution_count": 6,
   "metadata": {},
   "outputs": [],
   "source": [
    "import sys\n",
    "sys.path.append(libPath)\n",
    "import numpy as np\n",
    "import matplotlib.pyplot as plt\n",
    "\n",
    "from v2i.src.core.common import loadPKL"
   ]
  },
  {
   "cell_type": "markdown",
   "metadata": {},
   "source": [
    "### Datafiles path"
   ]
  },
  {
   "cell_type": "code",
   "execution_count": 73,
   "metadata": {},
   "outputs": [],
   "source": [
    "homogeneousOnlyLocalView15mPath = '/home/mayank/ray_results/homogeneous-only-local-view-15m/PPO_v2i-v0_0_2019-11-05_12-18-55grg60_zo/data_tf_disabled.pkl'\n",
    "homogeneousLV15Comm15Path = '/home/mayank/ray_results/homogeneous-full-comm-LV15m-Comm-15m/PPO_v2i-v0_0_2019-11-05_19-37-35q9vbzp4w/data_tf_disabled.pkl'\n",
    "heterogeneousOnlyLocalView15mPath = '/home/mayank/ray_results/heterogeneous-only-local-view-15m/PPO_v2i-v0_0_2019-11-06_01-29-19wd1ehb7g/data_tf_disabled.pkl'\n"
   ]
  },
  {
   "cell_type": "markdown",
   "metadata": {},
   "source": [
    "# Homogeneous - Only LocalView"
   ]
  },
  {
   "cell_type": "markdown",
   "metadata": {},
   "source": [
    "### Load data"
   ]
  },
  {
   "cell_type": "code",
   "execution_count": 4,
   "metadata": {},
   "outputs": [],
   "source": [
    "homogeneousOnlyLocalView15mData = loadPKL(homogeneousOnlyLocalView15mPath)"
   ]
  },
  {
   "cell_type": "code",
   "execution_count": 5,
   "metadata": {},
   "outputs": [
    {
     "data": {
      "text/plain": [
       "dict_keys(['maxSpeed', 'maxViewSpeed', 'plan-acts', 'query-acts', 'max-episode-length', 'data', 'others'])"
      ]
     },
     "execution_count": 5,
     "metadata": {},
     "output_type": "execute_result"
    }
   ],
   "source": [
    "homogeneousOnlyLocalView15mData.keys()"
   ]
  },
  {
   "cell_type": "markdown",
   "metadata": {},
   "source": [
    "### Agent Speed as function of time"
   ]
  },
  {
   "cell_type": "code",
   "execution_count": 21,
   "metadata": {},
   "outputs": [
    {
     "name": "stdout",
     "output_type": "stream",
     "text": [
      "Percentage of full episodes :  70.0\n"
     ]
    }
   ],
   "source": [
    "agentSpeedEpisodes = {}\n",
    "agentSpeedEpisodes['complete'] = []\n",
    "agentSpeedEpisodes['uncomplete'] = []\n",
    "\n",
    "totalEpisodes = 0\n",
    "completeCount = 0\n",
    "for data in homogeneousOnlyLocalView15mData['data']['0.4_0.4']:\n",
    "    episodeLen = len(homogeneousOnlyLocalView15mData['data']['0.4_0.4'][data]['speed'])\n",
    "    if episodeLen == homogeneousOnlyLocalView15mData['max-episode-length']:\n",
    "        completeCount += 1\n",
    "        agentSpeedEpisodes['complete'].append(homogeneousOnlyLocalView15mData['data']['0.4_0.4'][data]['speed'])\n",
    "    else:\n",
    "        agentSpeedEpisodes['uncomplete'].append(homogeneousOnlyLocalView15mData['data']['0.4_0.4'][data]['speed'])\n",
    "    \n",
    "    totalEpisodes += 1\n",
    "\n",
    "assert len(agentSpeedEpisodes['complete']) == completeCount\n",
    "\n",
    "print(\"Percentage of full episodes : \", completeCount/totalEpisodes * 100.0)"
   ]
  },
  {
   "cell_type": "code",
   "execution_count": 25,
   "metadata": {},
   "outputs": [
    {
     "name": "stdout",
     "output_type": "stream",
     "text": [
      "(2400, 35)\n"
     ]
    }
   ],
   "source": [
    "completeEpisodeSpeedData = np.array(agentSpeedEpisodes['complete']).transpose()\n",
    "print(completeEpisodeSpeedData.shape)"
   ]
  },
  {
   "cell_type": "code",
   "execution_count": 26,
   "metadata": {},
   "outputs": [
    {
     "name": "stdout",
     "output_type": "stream",
     "text": [
      "(2400,)\n"
     ]
    }
   ],
   "source": [
    "completeEpisodeSpeedData = completeEpisodeSpeedData.mean(axis=1)\n",
    "print(completeEpisodeSpeedData.shape)"
   ]
  },
  {
   "cell_type": "markdown",
   "metadata": {},
   "source": [
    "### Average agent speed"
   ]
  },
  {
   "cell_type": "code",
   "execution_count": 41,
   "metadata": {},
   "outputs": [
    {
     "name": "stdout",
     "output_type": "stream",
     "text": [
      "22.508775257142368 0.24259778453591724\n"
     ]
    }
   ],
   "source": [
    "homogOnlyLocalViewSpeed = np.array(agentSpeedEpisodes['complete']).sum(axis=1) / homogeneousOnlyLocalView15mData['max-episode-length']\n",
    "homogOnlyLocalViewSpeed *= 3.6\n",
    "homogOnlyLocalViewAvgSpeed, homogOnlyLocalViewSpeedStd = np.mean(homogOnlyLocalViewSpeed), np.std(homogOnlyLocalViewSpeed)\n",
    "\n",
    "print(homogOnlyLocalViewAvgSpeed, homogOnlyLocalViewSpeedStd)\n"
   ]
  },
  {
   "cell_type": "markdown",
   "metadata": {},
   "source": [
    "# Homogeneous - Comm 15m + LV 15m"
   ]
  },
  {
   "cell_type": "code",
   "execution_count": 52,
   "metadata": {},
   "outputs": [],
   "source": [
    "homogeneousComm15LV15Data = loadPKL(homogeneousLV15Comm15Path)"
   ]
  },
  {
   "cell_type": "code",
   "execution_count": 54,
   "metadata": {},
   "outputs": [
    {
     "data": {
      "text/plain": [
       "dict_keys(['maxSpeed', 'maxViewSpeed', 'plan-acts', 'query-acts', 'max-episode-length', 'data', 'others'])"
      ]
     },
     "execution_count": 54,
     "metadata": {},
     "output_type": "execute_result"
    }
   ],
   "source": [
    "homogeneousComm15LV15Data.keys()"
   ]
  },
  {
   "cell_type": "markdown",
   "metadata": {},
   "source": [
    "### Agent speed as function of time"
   ]
  },
  {
   "cell_type": "code",
   "execution_count": 55,
   "metadata": {},
   "outputs": [
    {
     "name": "stdout",
     "output_type": "stream",
     "text": [
      "Percentage of full episodes :  50.0\n"
     ]
    }
   ],
   "source": [
    "agentSpeedEpisodesHomoFullComm = {}\n",
    "agentSpeedEpisodesHomoFullComm['complete'] = []\n",
    "agentSpeedEpisodesHomoFullComm['uncomplete'] = []\n",
    "\n",
    "totalEpisodes = 0\n",
    "completeCount = 0\n",
    "for data in homogeneousComm15LV15Data['data']['0.4_0.4']:\n",
    "    episodeLen = len(homogeneousComm15LV15Data['data']['0.4_0.4'][data]['speed'])\n",
    "    if episodeLen == homogeneousComm15LV15Data['max-episode-length']:\n",
    "        completeCount += 1\n",
    "        agentSpeedEpisodesHomoFullComm['complete'].append(homogeneousComm15LV15Data['data']['0.4_0.4'][data]['speed'])\n",
    "    else:\n",
    "        agentSpeedEpisodesHomoFullComm['uncomplete'].append(homogeneousComm15LV15Data['data']['0.4_0.4'][data]['speed'])\n",
    "    \n",
    "    totalEpisodes += 1\n",
    "\n",
    "assert len(agentSpeedEpisodesHomoFullComm['complete']) == completeCount\n",
    "\n",
    "print(\"Percentage of full episodes : \", completeCount/totalEpisodes * 100.0)"
   ]
  },
  {
   "cell_type": "code",
   "execution_count": 56,
   "metadata": {},
   "outputs": [
    {
     "name": "stdout",
     "output_type": "stream",
     "text": [
      "(2400, 25)\n"
     ]
    }
   ],
   "source": [
    "completeEpisodeSpeedDataHomoFullComm = np.array(agentSpeedEpisodesHomoFullComm['complete']).transpose()\n",
    "print(completeEpisodeSpeedDataHomoFullComm.shape)"
   ]
  },
  {
   "cell_type": "code",
   "execution_count": 57,
   "metadata": {},
   "outputs": [
    {
     "name": "stdout",
     "output_type": "stream",
     "text": [
      "(2400,)\n"
     ]
    }
   ],
   "source": [
    "completeEpisodeSpeedDataHomoFullComm = completeEpisodeSpeedDataHomoFullComm.mean(axis=1)\n",
    "print(completeEpisodeSpeedDataHomoFullComm.shape)"
   ]
  },
  {
   "cell_type": "markdown",
   "metadata": {},
   "source": [
    "### Agent average speed"
   ]
  },
  {
   "cell_type": "code",
   "execution_count": 61,
   "metadata": {},
   "outputs": [
    {
     "name": "stdout",
     "output_type": "stream",
     "text": [
      "26.334418559999634 1.0156392913581218\n"
     ]
    }
   ],
   "source": [
    "homogFullCommSpeed = np.array(agentSpeedEpisodesHomoFullComm['complete']).sum(axis=1) / homogeneousComm15LV15Data['max-episode-length']\n",
    "homogFullCommSpeed *= 3.6\n",
    "homogFullCommAvgSpeed, homogFullCommSpeedStd = np.mean(homogFullCommSpeed), np.std(homogFullCommSpeed)\n",
    "\n",
    "print(homogFullCommAvgSpeed, homogFullCommSpeedStd)\n"
   ]
  },
  {
   "cell_type": "markdown",
   "metadata": {},
   "source": [
    "# Heterogeneous - Only Local View 15m"
   ]
  },
  {
   "cell_type": "code",
   "execution_count": 74,
   "metadata": {},
   "outputs": [],
   "source": [
    "heterogeneousOnlyLocalView15mData = loadPKL(heterogeneousOnlyLocalView15mPath)"
   ]
  },
  {
   "cell_type": "code",
   "execution_count": 75,
   "metadata": {},
   "outputs": [
    {
     "data": {
      "text/plain": [
       "dict_keys(['maxSpeed', 'maxViewSpeed', 'plan-acts', 'query-acts', 'max-episode-length', 'data', 'others'])"
      ]
     },
     "execution_count": 75,
     "metadata": {},
     "output_type": "execute_result"
    }
   ],
   "source": [
    "heterogeneousOnlyLocalView15mData.keys()"
   ]
  },
  {
   "cell_type": "markdown",
   "metadata": {},
   "source": [
    "### Agent speed as function of time"
   ]
  },
  {
   "cell_type": "code",
   "execution_count": 77,
   "metadata": {},
   "outputs": [
    {
     "name": "stdout",
     "output_type": "stream",
     "text": [
      "202\n",
      "405\n",
      "302\n",
      "782\n",
      "603\n",
      "600\n",
      "49\n",
      "552\n",
      "703\n",
      "404\n",
      "301\n",
      "201\n",
      "901\n",
      "702\n",
      "2003\n",
      "502\n",
      "1702\n",
      "232\n",
      "402\n",
      "1004\n",
      "2202\n",
      "102\n",
      "202\n",
      "103\n",
      "1701\n",
      "402\n",
      "203\n",
      "202\n",
      "402\n",
      "302\n",
      "1667\n",
      "601\n",
      "114\n",
      "403\n",
      "203\n",
      "203\n",
      "903\n",
      "301\n",
      "600\n",
      "2400\n",
      "335\n",
      "701\n",
      "300\n",
      "403\n",
      "101\n",
      "401\n",
      "102\n",
      "603\n",
      "2400\n",
      "201\n",
      "534\n",
      "555\n",
      "301\n",
      "1001\n",
      "103\n",
      "501\n",
      "664\n",
      "203\n",
      "103\n",
      "1202\n",
      "104\n",
      "1104\n",
      "602\n",
      "146\n",
      "302\n",
      "301\n",
      "202\n",
      "601\n",
      "100\n",
      "103\n",
      "503\n",
      "302\n",
      "203\n",
      "101\n",
      "502\n",
      "102\n",
      "301\n",
      "302\n",
      "201\n",
      "58\n",
      "578\n",
      "302\n",
      "1701\n",
      "203\n",
      "602\n",
      "172\n",
      "83\n",
      "205\n",
      "302\n",
      "305\n",
      "1100\n",
      "102\n",
      "902\n",
      "200\n",
      "103\n",
      "202\n",
      "2400\n",
      "1003\n",
      "609\n",
      "1202\n",
      "Percentage of full episodes :  3.0\n"
     ]
    }
   ],
   "source": [
    "agentSpeedEpisodesHeteroLV15m = {}\n",
    "agentSpeedEpisodesHeteroLV15m['complete'] = []\n",
    "agentSpeedEpisodesHeteroLV15m['uncomplete'] = []\n",
    "\n",
    "totalEpisodes = 0\n",
    "completeCount = 0\n",
    "for data in heterogeneousOnlyLocalView15mData['data']['0.4_0.4']:\n",
    "    episodeLen = len(heterogeneousOnlyLocalView15mData['data']['0.4_0.4'][data]['speed'])\n",
    "    print(episodeLen)\n",
    "    if episodeLen == heterogeneousOnlyLocalView15mData['max-episode-length']:\n",
    "        completeCount += 1\n",
    "        agentSpeedEpisodesHeteroLV15m['complete'].append(heterogeneousOnlyLocalView15mData['data']['0.4_0.4'][data]['speed'])\n",
    "    else:\n",
    "        agentSpeedEpisodesHeteroLV15m['uncomplete'].append(heterogeneousOnlyLocalView15mData['data']['0.4_0.4'][data]['speed'])\n",
    "    \n",
    "    totalEpisodes += 1\n",
    "\n",
    "assert len(agentSpeedEpisodesHeteroLV15m['complete']) == completeCount\n",
    "\n",
    "print(\"Percentage of full episodes : \", completeCount/totalEpisodes * 100.0)"
   ]
  },
  {
   "cell_type": "code",
   "execution_count": null,
   "metadata": {},
   "outputs": [],
   "source": [
    "plt.plot()"
   ]
  },
  {
   "cell_type": "markdown",
   "metadata": {},
   "source": [
    "# Plot all together"
   ]
  },
  {
   "cell_type": "code",
   "execution_count": 68,
   "metadata": {},
   "outputs": [
    {
     "data": {
      "text/plain": [
       "<matplotlib.legend.Legend at 0x7fdba69e7c88>"
      ]
     },
     "execution_count": 68,
     "metadata": {},
     "output_type": "execute_result"
    },
    {
     "data": {
      "image/png": "[encoded data removed]",
      "text/plain": [
       "<Figure size 432x288 with 1 Axes>"
      ]
     },
     "metadata": {
      "needs_background": "light"
     },
     "output_type": "display_data"
    }
   ],
   "source": [
    "plt.plot(completeEpisodeSpeedData * 3.6, label='homogeneous vehicles, local view = 15m')\n",
    "plt.plot(completeEpisodeSpeedDataHomoFullComm * 3.6, label='homogeneous vehicles, local view = 15m + comm = 15m')\n",
    "plt.xlabel('time steps')\n",
    "plt.ylabel('speed (m/s)')\n",
    "plt.title('Agent speed, Traffic density : %s'%('0.4_0.4'))\n",
    "plt.legend()"
   ]
  },
  {
   "cell_type": "code",
   "execution_count": 70,
   "metadata": {},
   "outputs": [
    {
     "data": {
      "image/png": "[encoded data removed]",
      "text/plain": [
       "<Figure size 432x288 with 1 Axes>"
      ]
     },
     "metadata": {
      "needs_background": "light"
     },
     "output_type": "display_data"
    }
   ],
   "source": [
    "plt.bar([0, 1], [homogOnlyLocalViewAvgSpeed, homogFullCommAvgSpeed,], yerr=[homogOnlyLocalViewSpeedStd, homogFullCommSpeedStd])\n",
    "plt.xticks(np.arange(0,2), ['local view 15m', 'comm 15m + local view 15m'])\n",
    "plt.ylabel(\"Avg. agent speed (km/hr)\")\n",
    "plt.show()"
   ]
  },
  {
   "cell_type": "code",
   "execution_count": null,
   "metadata": {},
   "outputs": [],
   "source": []
  }
 ],
 "metadata": {
  "kernelspec": {
   "display_name": "Python 3",
   "language": "python",
   "name": "python3"
  },
  "language_info": {
   "codemirror_mode": {
    "name": "ipython",
    "version": 3
   },
   "file_extension": ".py",
   "mimetype": "text/x-python",
   "name": "python",
   "nbconvert_exporter": "python",
   "pygments_lexer": "ipython3",
   "version": "3.6.8"
  }
 },
 "nbformat": 4,
 "nbformat_minor": 2
}
